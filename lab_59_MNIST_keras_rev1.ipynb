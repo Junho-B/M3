{
  "nbformat": 4,
  "nbformat_minor": 0,
  "metadata": {
    "accelerator": "GPU",
    "colab": {
      "name": "lab_59_MNIST_keras_rev1.ipynb",
      "provenance": [],
      "collapsed_sections": [],
      "include_colab_link": true
    },
    "kernelspec": {
      "display_name": "Python 3",
      "language": "python",
      "name": "python3"
    },
    "language_info": {
      "codemirror_mode": {
        "name": "ipython",
        "version": 3
      },
      "file_extension": ".py",
      "mimetype": "text/x-python",
      "name": "python",
      "nbconvert_exporter": "python",
      "pygments_lexer": "ipython3",
      "version": "3.6.8"
    }
  },
  "cells": [
    {
      "cell_type": "markdown",
      "metadata": {
        "id": "view-in-github",
        "colab_type": "text"
      },
      "source": [
        "<a href=\"https://colab.research.google.com/github/rtajeong/M3/blob/main/lab_59_MNIST_keras_rev1.ipynb\" target=\"_parent\"><img src=\"https://colab.research.google.com/assets/colab-badge.svg\" alt=\"Open In Colab\"/></a>"
      ]
    },
    {
      "cell_type": "code",
      "metadata": {
        "id": "SJyeuRIGcyYo"
      },
      "source": [
        "# from google.colab import drive\n",
        "# drive.mount('/content/drive')"
      ],
      "execution_count": null,
      "outputs": []
    },
    {
      "cell_type": "markdown",
      "metadata": {
        "id": "view-in-github"
      },
      "source": [
        "<a href=\"https://colab.research.google.com/github/StillWork/ds-lab/blob/master/gg_51_MNIST_keras.ipynb\" target=\"_parent\"><img src=\"https://colab.research.google.com/assets/colab-badge.svg\" alt=\"Open In Colab\"/></a>"
      ]
    },
    {
      "cell_type": "markdown",
      "metadata": {
        "id": "h0CAW1Bd8B0l"
      },
      "source": [
        ""
      ]
    },
    {
      "cell_type": "markdown",
      "metadata": {
        "id": "OO16CDUjp1Ax"
      },
      "source": [
        "# f-6-MNIST-keras\n",
        "- 케라스를 이용한 MNIST"
      ]
    },
    {
      "cell_type": "markdown",
      "metadata": {
        "id": "JIe7bYJMtrfN"
      },
      "source": [
        "## 데이터 로드"
      ]
    },
    {
      "cell_type": "code",
      "metadata": {
        "id": "-AQRftuEqGqx",
        "scrolled": true
      },
      "source": [
        "import numpy as np\n",
        "import tensorflow as tf\n",
        "from tensorflow import keras\n",
        "from tensorflow.keras import layers\n",
        "from tensorflow.keras.datasets import mnist\n",
        "from tensorflow.keras.utils import to_categorical"
      ],
      "execution_count": 1,
      "outputs": []
    },
    {
      "cell_type": "code",
      "metadata": {
        "id": "vRUwM8gvqToI",
        "colab": {
          "base_uri": "https://localhost:8080/"
        },
        "outputId": "2891c71e-f40f-4a30-f7ef-9b4c6380f81c"
      },
      "source": [
        "(train_images, train_labels), (test_images, test_labels) = mnist.load_data()\n",
        "print(train_images.shape, test_images.shape)\n",
        "print(train_labels.shape, test_labels.shape)"
      ],
      "execution_count": 2,
      "outputs": [
        {
          "output_type": "stream",
          "text": [
            "(60000, 28, 28) (10000, 28, 28)\n",
            "(60000,) (10000,)\n"
          ],
          "name": "stdout"
        }
      ]
    },
    {
      "cell_type": "code",
      "metadata": {
        "colab": {
          "base_uri": "https://localhost:8080/"
        },
        "id": "Qa7eVy32T1ji",
        "outputId": "5a902cde-5d39-4f51-a32b-f236069561ed"
      },
      "source": [
        "train_images[0].max()   # 8-bit"
      ],
      "execution_count": 3,
      "outputs": [
        {
          "output_type": "execute_result",
          "data": {
            "text/plain": [
              "255"
            ]
          },
          "metadata": {},
          "execution_count": 3
        }
      ]
    },
    {
      "cell_type": "code",
      "metadata": {
        "id": "tIJD-M1vUV89",
        "colab": {
          "base_uri": "https://localhost:8080/"
        },
        "outputId": "86101cfd-23de-4f77-db60-bd52eed6dcac"
      },
      "source": [
        "type(train_images), type(train_images[0]), train_images[0].shape"
      ],
      "execution_count": 4,
      "outputs": [
        {
          "output_type": "execute_result",
          "data": {
            "text/plain": [
              "(numpy.ndarray, numpy.ndarray, (28, 28))"
            ]
          },
          "metadata": {},
          "execution_count": 4
        }
      ]
    },
    {
      "cell_type": "code",
      "metadata": {
        "id": "mF-5-RTZcrwQ",
        "colab": {
          "base_uri": "https://localhost:8080/"
        },
        "outputId": "cf7bfc6d-482e-4ed6-8bee-6f9d184d77b9"
      },
      "source": [
        "type(train_labels), type(train_labels[0]), train_labels[0]"
      ],
      "execution_count": 5,
      "outputs": [
        {
          "output_type": "execute_result",
          "data": {
            "text/plain": [
              "(numpy.ndarray, numpy.uint8, 5)"
            ]
          },
          "metadata": {},
          "execution_count": 5
        }
      ]
    },
    {
      "cell_type": "code",
      "metadata": {
        "id": "_HdoWLENcrwp",
        "colab": {
          "base_uri": "https://localhost:8080/"
        },
        "outputId": "5a95ab6a-eab9-4ad4-d61a-76e54cd0837e"
      },
      "source": [
        "train_images.shape, train_labels.dtype"
      ],
      "execution_count": 6,
      "outputs": [
        {
          "output_type": "execute_result",
          "data": {
            "text/plain": [
              "((60000, 28, 28), dtype('uint8'))"
            ]
          },
          "metadata": {},
          "execution_count": 6
        }
      ]
    },
    {
      "cell_type": "markdown",
      "metadata": {
        "id": "JUaSP2MbtRiS"
      },
      "source": [
        "## MNIST 이미지 확인 및 데이터 전처리"
      ]
    },
    {
      "cell_type": "code",
      "metadata": {
        "id": "8_7c3by7YgUe"
      },
      "source": [
        "# train_images[0], train_images[0]/255"
      ],
      "execution_count": null,
      "outputs": []
    },
    {
      "cell_type": "code",
      "metadata": {
        "id": "UZlBIBHpbRQF",
        "colab": {
          "base_uri": "https://localhost:8080/",
          "height": 219
        },
        "outputId": "bf12701f-1f81-482f-93a1-e90647162420"
      },
      "source": [
        "import matplotlib.pyplot as plt\n",
        "%matplotlib inline\n",
        "plt.subplot(1,2,1)\n",
        "plt.imshow(train_images[0], cmap=plt.cm.binary)\n",
        "plt.subplot(1,2,2)\n",
        "plt.imshow(train_images[0]/255, cmap=plt.cm.binary)\n",
        "plt.show"
      ],
      "execution_count": 7,
      "outputs": [
        {
          "output_type": "execute_result",
          "data": {
            "text/plain": [
              "<function matplotlib.pyplot.show>"
            ]
          },
          "metadata": {},
          "execution_count": 7
        },
        {
          "output_type": "display_data",
          "data": {
            "image/png": "[encoded data removed]",
            "text/plain": [
              "<Figure size 432x288 with 2 Axes>"
            ]
          },
          "metadata": {
            "needs_background": "light"
          }
        }
      ]
    },
    {
      "cell_type": "code",
      "metadata": {
        "id": "RnNmJ6N1crxc",
        "colab": {
          "base_uri": "https://localhost:8080/"
        },
        "outputId": "ba8070b5-150b-4a80-9e95-90e67f126549"
      },
      "source": [
        "# just for checking\n",
        "print(type(train_labels), train_labels[:10])\n",
        "train_images.shape, train_labels.shape"
      ],
      "execution_count": 8,
      "outputs": [
        {
          "output_type": "stream",
          "text": [
            "<class 'numpy.ndarray'> [5 0 4 1 9 2 1 3 1 4]\n"
          ],
          "name": "stdout"
        },
        {
          "output_type": "execute_result",
          "data": {
            "text/plain": [
              "((60000, 28, 28), (60000,))"
            ]
          },
          "metadata": {},
          "execution_count": 8
        }
      ]
    },
    {
      "cell_type": "code",
      "metadata": {
        "id": "EafiutHbqni_"
      },
      "source": [
        "train_images = train_images.reshape((60000, 28, 28, 1))\n",
        "train_images = train_images.astype('float32')/255         # scaling\n",
        "\n",
        "test_images = test_images.reshape((10000, 28, 28, 1))\n",
        "test_images = test_images.astype('float32')/255\n",
        "\n",
        "train_labels = to_categorical(train_labels)   # one-hot encoding\n",
        "test_labels = to_categorical(test_labels)"
      ],
      "execution_count": 9,
      "outputs": []
    },
    {
      "cell_type": "code",
      "metadata": {
        "id": "BoHSMVqj_Kzf",
        "colab": {
          "base_uri": "https://localhost:8080/"
        },
        "outputId": "c44da83a-d350-4f5f-aff3-a187d4cf6f5d"
      },
      "source": [
        "train_images.shape, train_labels.shape"
      ],
      "execution_count": 10,
      "outputs": [
        {
          "output_type": "execute_result",
          "data": {
            "text/plain": [
              "((60000, 28, 28, 1), (60000, 10))"
            ]
          },
          "metadata": {},
          "execution_count": 10
        }
      ]
    },
    {
      "cell_type": "code",
      "metadata": {
        "id": "m9XjypZxcryK",
        "colab": {
          "base_uri": "https://localhost:8080/"
        },
        "outputId": "b8a4fd45-3be0-48a7-df30-7cada1325f24"
      },
      "source": [
        "print(train_labels[:10], type(train_labels), )"
      ],
      "execution_count": 11,
      "outputs": [
        {
          "output_type": "stream",
          "text": [
            "[[0. 0. 0. 0. 0. 1. 0. 0. 0. 0.]\n",
            " [1. 0. 0. 0. 0. 0. 0. 0. 0. 0.]\n",
            " [0. 0. 0. 0. 1. 0. 0. 0. 0. 0.]\n",
            " [0. 1. 0. 0. 0. 0. 0. 0. 0. 0.]\n",
            " [0. 0. 0. 0. 0. 0. 0. 0. 0. 1.]\n",
            " [0. 0. 1. 0. 0. 0. 0. 0. 0. 0.]\n",
            " [0. 1. 0. 0. 0. 0. 0. 0. 0. 0.]\n",
            " [0. 0. 0. 1. 0. 0. 0. 0. 0. 0.]\n",
            " [0. 1. 0. 0. 0. 0. 0. 0. 0. 0.]\n",
            " [0. 0. 0. 0. 1. 0. 0. 0. 0. 0.]] <class 'numpy.ndarray'>\n"
          ],
          "name": "stdout"
        }
      ]
    },
    {
      "cell_type": "markdown",
      "metadata": {
        "id": "Czew2EJub6Ja"
      },
      "source": [
        "## MLP(multi-layer perceptron) 로 구현(케라스 사용)"
      ]
    },
    {
      "cell_type": "markdown",
      "metadata": {
        "id": "CC-A1BKOGUOL"
      },
      "source": [
        "### Single flattened layer"
      ]
    },
    {
      "cell_type": "code",
      "metadata": {
        "id": "Gu8Z6K8eHzgn"
      },
      "source": [
        "(train_images, train_labels), (test_images, test_labels) = mnist.load_data()\n",
        "train_images = train_images.reshape((60000, 28*28*1))\n",
        "train_images = train_images.astype('float32')/255         # scaling\n",
        "\n",
        "test_images = test_images.reshape((10000, 28*28*1))\n",
        "test_images = test_images.astype('float32')/255\n",
        "\n",
        "train_labels = to_categorical(train_labels)   # one-hot encoding\n",
        "test_labels = to_categorical(test_labels)"
      ],
      "execution_count": 20,
      "outputs": []
    },
    {
      "cell_type": "code",
      "metadata": {
        "colab": {
          "base_uri": "https://localhost:8080/"
        },
        "id": "cTsZpuk1FuEc",
        "outputId": "3d304fee-43fd-4aac-eac1-fcc254b75ff3"
      },
      "source": [
        "# a single MLP layer\n",
        "from keras import layers\n",
        "from keras import models\n",
        "model = models.Sequential()\n",
        "model.add(layers.Dense(10, activation='softmax', input_shape = (28*28*1, )))\n",
        "model.summary()\n",
        "\n",
        "model.compile(optimizer= 'rmsprop',             # set up hyperparamers\n",
        "             loss = 'categorical_crossentropy',\n",
        "             metrics = ['accuracy'])\n",
        "\n",
        "model.fit(train_images, train_labels, epochs=30, batch_size=256, verbose=2)\n",
        "\n",
        "test_loss, test_acc = model.evaluate(test_images, test_labels) # default batch size=32\n",
        "print('test_acc = ',test_acc)"
      ],
      "execution_count": 11,
      "outputs": [
        {
          "output_type": "stream",
          "text": [
            "Model: \"sequential\"\n",
            "_________________________________________________________________\n",
            "Layer (type)                 Output Shape              Param #   \n",
            "=================================================================\n",
            "dense (Dense)                (None, 10)                7850      \n",
            "=================================================================\n",
            "Total params: 7,850\n",
            "Trainable params: 7,850\n",
            "Non-trainable params: 0\n",
            "_________________________________________________________________\n",
            "Epoch 1/30\n",
            "235/235 - 3s - loss: 0.7797 - accuracy: 0.8099\n",
            "Epoch 2/30\n",
            "235/235 - 1s - loss: 0.3707 - accuracy: 0.8990\n",
            "Epoch 3/30\n",
            "235/235 - 1s - loss: 0.3236 - accuracy: 0.9100\n",
            "Epoch 4/30\n",
            "235/235 - 1s - loss: 0.3038 - accuracy: 0.9159\n",
            "Epoch 5/30\n",
            "235/235 - 1s - loss: 0.2924 - accuracy: 0.9184\n",
            "Epoch 6/30\n",
            "235/235 - 1s - loss: 0.2849 - accuracy: 0.9204\n",
            "Epoch 7/30\n",
            "235/235 - 1s - loss: 0.2787 - accuracy: 0.9219\n",
            "Epoch 8/30\n",
            "235/235 - 1s - loss: 0.2743 - accuracy: 0.9237\n",
            "Epoch 9/30\n",
            "235/235 - 1s - loss: 0.2711 - accuracy: 0.9245\n",
            "Epoch 10/30\n",
            "235/235 - 1s - loss: 0.2680 - accuracy: 0.9251\n",
            "Epoch 11/30\n",
            "235/235 - 1s - loss: 0.2657 - accuracy: 0.9259\n",
            "Epoch 12/30\n",
            "235/235 - 1s - loss: 0.2634 - accuracy: 0.9269\n",
            "Epoch 13/30\n",
            "235/235 - 1s - loss: 0.2616 - accuracy: 0.9272\n",
            "Epoch 14/30\n",
            "235/235 - 1s - loss: 0.2599 - accuracy: 0.9279\n",
            "Epoch 15/30\n",
            "235/235 - 1s - loss: 0.2586 - accuracy: 0.9282\n",
            "Epoch 16/30\n",
            "235/235 - 1s - loss: 0.2570 - accuracy: 0.9296\n",
            "Epoch 17/30\n",
            "235/235 - 1s - loss: 0.2558 - accuracy: 0.9296\n",
            "Epoch 18/30\n",
            "235/235 - 1s - loss: 0.2550 - accuracy: 0.9299\n",
            "Epoch 19/30\n",
            "235/235 - 1s - loss: 0.2539 - accuracy: 0.9306\n",
            "Epoch 20/30\n",
            "235/235 - 1s - loss: 0.2531 - accuracy: 0.9307\n",
            "Epoch 21/30\n",
            "235/235 - 1s - loss: 0.2521 - accuracy: 0.9312\n",
            "Epoch 22/30\n",
            "235/235 - 1s - loss: 0.2510 - accuracy: 0.9314\n",
            "Epoch 23/30\n",
            "235/235 - 1s - loss: 0.2505 - accuracy: 0.9311\n",
            "Epoch 24/30\n",
            "235/235 - 1s - loss: 0.2499 - accuracy: 0.9315\n",
            "Epoch 25/30\n",
            "235/235 - 1s - loss: 0.2493 - accuracy: 0.9321\n",
            "Epoch 26/30\n",
            "235/235 - 1s - loss: 0.2486 - accuracy: 0.9324\n",
            "Epoch 27/30\n",
            "235/235 - 1s - loss: 0.2480 - accuracy: 0.9326\n",
            "Epoch 28/30\n",
            "235/235 - 1s - loss: 0.2475 - accuracy: 0.9326\n",
            "Epoch 29/30\n",
            "235/235 - 1s - loss: 0.2470 - accuracy: 0.9327\n",
            "Epoch 30/30\n",
            "235/235 - 1s - loss: 0.2466 - accuracy: 0.9331\n",
            "313/313 [==============================] - 1s 3ms/step - loss: 0.2664 - accuracy: 0.9274\n",
            "test_acc =  0.9273999929428101\n"
          ],
          "name": "stdout"
        }
      ]
    },
    {
      "cell_type": "markdown",
      "metadata": {
        "id": "g5LUPZunF5Q8"
      },
      "source": [
        "## MLP with hidden layers"
      ]
    },
    {
      "cell_type": "code",
      "metadata": {
        "id": "4tlDJdu8b5XD",
        "colab": {
          "base_uri": "https://localhost:8080/"
        },
        "outputId": "02278403-4033-4258-b432-25d52bfda87c"
      },
      "source": [
        "from keras import layers\n",
        "from keras import models\n",
        "\n",
        "model = models.Sequential()\n",
        "model.add(layers.Dense(100, activation='relu', input_shape = (28*28*1, ))) # fully-connected\n",
        "model.add(layers.Dense(100, activation='relu'))\n",
        "model.add(layers.Flatten())\n",
        "model.add(layers.Dense(10, activation='softmax'))\n",
        "model.summary()"
      ],
      "execution_count": 21,
      "outputs": [
        {
          "output_type": "stream",
          "text": [
            "Model: \"sequential\"\n",
            "_________________________________________________________________\n",
            "Layer (type)                 Output Shape              Param #   \n",
            "=================================================================\n",
            "dense (Dense)                (None, 100)               78500     \n",
            "_________________________________________________________________\n",
            "dense_1 (Dense)              (None, 100)               10100     \n",
            "_________________________________________________________________\n",
            "flatten (Flatten)            (None, 100)               0         \n",
            "_________________________________________________________________\n",
            "dense_2 (Dense)              (None, 10)                1010      \n",
            "=================================================================\n",
            "Total params: 89,610\n",
            "Trainable params: 89,610\n",
            "Non-trainable params: 0\n",
            "_________________________________________________________________\n"
          ],
          "name": "stdout"
        }
      ]
    },
    {
      "cell_type": "code",
      "metadata": {
        "id": "BxhtwGwIcryz",
        "colab": {
          "base_uri": "https://localhost:8080/"
        },
        "outputId": "3bf331ca-57b3-41ea-a99d-36c924f7dfb1"
      },
      "source": [
        "print(model.input)\n",
        "print(model.output)\n",
        "print(model.input_shape)\n",
        "print(model.output_shape)\n",
        "model.input.shape"
      ],
      "execution_count": null,
      "outputs": [
        {
          "output_type": "stream",
          "text": [
            "KerasTensor(type_spec=TensorSpec(shape=(None, 784), dtype=tf.float32, name='dense_27_input'), name='dense_27_input', description=\"created by layer 'dense_27_input'\")\n",
            "KerasTensor(type_spec=TensorSpec(shape=(None, 10), dtype=tf.float32, name=None), name='dense_29/Softmax:0', description=\"created by layer 'dense_29'\")\n",
            "(None, 784)\n",
            "(None, 10)\n"
          ],
          "name": "stdout"
        },
        {
          "output_type": "execute_result",
          "data": {
            "text/plain": [
              "TensorShape([None, 784])"
            ]
          },
          "metadata": {
            "tags": []
          },
          "execution_count": 50
        }
      ]
    },
    {
      "cell_type": "code",
      "metadata": {
        "id": "jiv81CMBcf88"
      },
      "source": [
        "model.compile(optimizer= 'rmsprop',             # set up hyperparamers\n",
        "             loss = 'categorical_crossentropy',\n",
        "             metrics = ['accuracy'])"
      ],
      "execution_count": 22,
      "outputs": []
    },
    {
      "cell_type": "code",
      "metadata": {
        "id": "oV47F7rsb5EY",
        "colab": {
          "base_uri": "https://localhost:8080/"
        },
        "outputId": "aa0a2183-8d16-4e44-8f74-2aa2bacb6580"
      },
      "source": [
        "model.fit(train_images, train_labels, epochs=30, batch_size=200) "
      ],
      "execution_count": 23,
      "outputs": [
        {
          "output_type": "stream",
          "text": [
            "Epoch 1/30\n",
            "300/300 [==============================] - 2s 4ms/step - loss: 0.3661 - accuracy: 0.8965\n",
            "Epoch 2/30\n",
            "300/300 [==============================] - 1s 4ms/step - loss: 0.1648 - accuracy: 0.9513\n",
            "Epoch 3/30\n",
            "300/300 [==============================] - 1s 4ms/step - loss: 0.1171 - accuracy: 0.9650\n",
            "Epoch 4/30\n",
            "300/300 [==============================] - 1s 3ms/step - loss: 0.0907 - accuracy: 0.9722\n",
            "Epoch 5/30\n",
            "300/300 [==============================] - 1s 3ms/step - loss: 0.0718 - accuracy: 0.9781\n",
            "Epoch 6/30\n",
            "300/300 [==============================] - 1s 3ms/step - loss: 0.0600 - accuracy: 0.9816\n",
            "Epoch 7/30\n",
            "300/300 [==============================] - 1s 3ms/step - loss: 0.0505 - accuracy: 0.9851\n",
            "Epoch 8/30\n",
            "300/300 [==============================] - 1s 3ms/step - loss: 0.0437 - accuracy: 0.9866\n",
            "Epoch 9/30\n",
            "300/300 [==============================] - 1s 3ms/step - loss: 0.0363 - accuracy: 0.9889\n",
            "Epoch 10/30\n",
            "300/300 [==============================] - 1s 4ms/step - loss: 0.0306 - accuracy: 0.9908\n",
            "Epoch 11/30\n",
            "300/300 [==============================] - 1s 3ms/step - loss: 0.0263 - accuracy: 0.9921\n",
            "Epoch 12/30\n",
            "300/300 [==============================] - 1s 3ms/step - loss: 0.0224 - accuracy: 0.9933\n",
            "Epoch 13/30\n",
            "300/300 [==============================] - 1s 3ms/step - loss: 0.0191 - accuracy: 0.9939\n",
            "Epoch 14/30\n",
            "300/300 [==============================] - 1s 3ms/step - loss: 0.0164 - accuracy: 0.9953\n",
            "Epoch 15/30\n",
            "300/300 [==============================] - 1s 4ms/step - loss: 0.0146 - accuracy: 0.9955\n",
            "Epoch 16/30\n",
            "300/300 [==============================] - 1s 4ms/step - loss: 0.0119 - accuracy: 0.9963\n",
            "Epoch 17/30\n",
            "300/300 [==============================] - 1s 4ms/step - loss: 0.0111 - accuracy: 0.9966\n",
            "Epoch 18/30\n",
            "300/300 [==============================] - 1s 4ms/step - loss: 0.0098 - accuracy: 0.9967\n",
            "Epoch 19/30\n",
            "300/300 [==============================] - 1s 3ms/step - loss: 0.0082 - accuracy: 0.9976\n",
            "Epoch 20/30\n",
            "300/300 [==============================] - 1s 3ms/step - loss: 0.0070 - accuracy: 0.9980\n",
            "Epoch 21/30\n",
            "300/300 [==============================] - 1s 4ms/step - loss: 0.0059 - accuracy: 0.9983\n",
            "Epoch 22/30\n",
            "300/300 [==============================] - 1s 4ms/step - loss: 0.0057 - accuracy: 0.9984\n",
            "Epoch 23/30\n",
            "300/300 [==============================] - 1s 4ms/step - loss: 0.0049 - accuracy: 0.9987\n",
            "Epoch 24/30\n",
            "300/300 [==============================] - 1s 3ms/step - loss: 0.0040 - accuracy: 0.9988\n",
            "Epoch 25/30\n",
            "300/300 [==============================] - 1s 3ms/step - loss: 0.0034 - accuracy: 0.9991\n",
            "Epoch 26/30\n",
            "300/300 [==============================] - 1s 4ms/step - loss: 0.0036 - accuracy: 0.9990\n",
            "Epoch 27/30\n",
            "300/300 [==============================] - 1s 4ms/step - loss: 0.0030 - accuracy: 0.9991\n",
            "Epoch 28/30\n",
            "300/300 [==============================] - 1s 4ms/step - loss: 0.0030 - accuracy: 0.9991\n",
            "Epoch 29/30\n",
            "300/300 [==============================] - 1s 4ms/step - loss: 0.0025 - accuracy: 0.9993\n",
            "Epoch 30/30\n",
            "300/300 [==============================] - 1s 4ms/step - loss: 0.0021 - accuracy: 0.9995\n"
          ],
          "name": "stdout"
        },
        {
          "output_type": "execute_result",
          "data": {
            "text/plain": [
              "<keras.callbacks.History at 0x7f35361410d0>"
            ]
          },
          "metadata": {},
          "execution_count": 23
        }
      ]
    },
    {
      "cell_type": "code",
      "metadata": {
        "id": "JWGwyDRBdNqL",
        "colab": {
          "base_uri": "https://localhost:8080/"
        },
        "outputId": "95f22906-0f45-4c50-bde2-a4a900bbb37c"
      },
      "source": [
        "test_loss, test_acc = model.evaluate(test_images, test_labels) # default batch size=32\n",
        "print('test_acc = ',test_acc)"
      ],
      "execution_count": 24,
      "outputs": [
        {
          "output_type": "stream",
          "text": [
            "313/313 [==============================] - 1s 3ms/step - loss: 0.1311 - accuracy: 0.9789\n",
            "test_acc =  0.9789000153541565\n"
          ],
          "name": "stdout"
        }
      ]
    },
    {
      "cell_type": "markdown",
      "metadata": {
        "id": "44tLYKCwtYc-"
      },
      "source": [
        "## CNN 모델 생성"
      ]
    },
    {
      "cell_type": "code",
      "metadata": {
        "id": "GtGbjQ2Xcrzc"
      },
      "source": [
        "# keras.layers.Conv2D(filters, kernel_size,...)\n",
        "# - filters: the dimensionality of the output space (the number of output filters).\n",
        "# - parameter 수: 입력채널수 X 필터폭 X 필터높이 X 출력채널수 \n",
        "# - bias 도 고려"
      ],
      "execution_count": null,
      "outputs": []
    },
    {
      "cell_type": "code",
      "metadata": {
        "id": "8nuyNeduXF08"
      },
      "source": [
        "(train_images, train_labels), (test_images, test_labels) = mnist.load_data()\n",
        "train_images = train_images.reshape(60000, 28, 28, 1)\n",
        "train_images = train_images.astype('float32')/255         # scaling\n",
        "\n",
        "test_images = test_images.reshape(10000, 28, 28, 1)\n",
        "test_images = test_images.astype('float32')/255\n",
        "\n",
        "train_labels = to_categorical(train_labels)   # one-hot encoding\n",
        "test_labels = to_categorical(test_labels)"
      ],
      "execution_count": 25,
      "outputs": []
    },
    {
      "cell_type": "code",
      "metadata": {
        "id": "ZF7JkSQvrYAj",
        "colab": {
          "base_uri": "https://localhost:8080/"
        },
        "outputId": "60f3ea5e-e089-425e-b758-31fc4e3cdb6a"
      },
      "source": [
        "from keras import layers\n",
        "from keras import models\n",
        "\n",
        "model = models.Sequential()\n",
        "\n",
        "model.add(layers.Conv2D(32, (3,3), activation='relu', input_shape = (28, 28, 1)))\n",
        "model.add(layers.MaxPooling2D((2,2)))\n",
        "model.add(layers.Conv2D(64, (3,3), activation='relu'))\n",
        "model.add(layers.MaxPooling2D((2,2)))\n",
        "model.add(layers.Conv2D(64, (3,3), activation='relu'))\n",
        "# print(model.output_shape)\n",
        "\n",
        "model.add(layers.Flatten())\n",
        "model.add(layers.Dense(10, activation='softmax'))\n",
        "print(model.output_shape)\n",
        "\n",
        "model.summary()   "
      ],
      "execution_count": 26,
      "outputs": [
        {
          "output_type": "stream",
          "text": [
            "(None, 10)\n",
            "Model: \"sequential_1\"\n",
            "_________________________________________________________________\n",
            "Layer (type)                 Output Shape              Param #   \n",
            "=================================================================\n",
            "conv2d (Conv2D)              (None, 26, 26, 32)        320       \n",
            "_________________________________________________________________\n",
            "max_pooling2d (MaxPooling2D) (None, 13, 13, 32)        0         \n",
            "_________________________________________________________________\n",
            "conv2d_1 (Conv2D)            (None, 11, 11, 64)        18496     \n",
            "_________________________________________________________________\n",
            "max_pooling2d_1 (MaxPooling2 (None, 5, 5, 64)          0         \n",
            "_________________________________________________________________\n",
            "conv2d_2 (Conv2D)            (None, 3, 3, 64)          36928     \n",
            "_________________________________________________________________\n",
            "flatten_1 (Flatten)          (None, 576)               0         \n",
            "_________________________________________________________________\n",
            "dense_3 (Dense)              (None, 10)                5770      \n",
            "=================================================================\n",
            "Total params: 61,514\n",
            "Trainable params: 61,514\n",
            "Non-trainable params: 0\n",
            "_________________________________________________________________\n"
          ],
          "name": "stdout"
        }
      ]
    },
    {
      "cell_type": "code",
      "metadata": {
        "id": "SM-4br69crzu"
      },
      "source": [
        "# number of parameters\n",
        "# conv2d_1 : 3*3*1*32 + 32 = 320\n",
        "# conv2d_2 : 3*3*32*64 + 64 = 18496\n",
        "# conv2d_3 : 3*3*64*64 + 64 = 36928\n",
        "# dense_6 : 3*3*64*10 + 10 = 5770"
      ],
      "execution_count": null,
      "outputs": []
    },
    {
      "cell_type": "markdown",
      "metadata": {
        "id": "mUoOEdN0ujJj"
      },
      "source": [
        "## 훈련"
      ]
    },
    {
      "cell_type": "code",
      "metadata": {
        "id": "_ikkdb8qsx6d"
      },
      "source": [
        "model.compile(optimizer= 'rmsprop',\n",
        "             loss = 'categorical_crossentropy',\n",
        "             metrics = ['accuracy'])"
      ],
      "execution_count": 27,
      "outputs": []
    },
    {
      "cell_type": "code",
      "metadata": {
        "id": "FWsfipcXu20x",
        "colab": {
          "base_uri": "https://localhost:8080/"
        },
        "outputId": "1d4d39f1-2f50-4cc7-d86c-6f4a42540abe"
      },
      "source": [
        "model.fit(train_images, train_labels, epochs=10, batch_size=64)"
      ],
      "execution_count": 38,
      "outputs": [
        {
          "output_type": "stream",
          "text": [
            "Epoch 1/10\n",
            "938/938 [==============================] - 8s 8ms/step - loss: 0.0279 - accuracy: 0.9914\n",
            "Epoch 2/10\n",
            "938/938 [==============================] - 7s 8ms/step - loss: 0.0217 - accuracy: 0.9933\n",
            "Epoch 3/10\n",
            "938/938 [==============================] - 7s 8ms/step - loss: 0.0173 - accuracy: 0.9948\n",
            "Epoch 4/10\n",
            "938/938 [==============================] - 7s 8ms/step - loss: 0.0147 - accuracy: 0.9954\n",
            "Epoch 5/10\n",
            "938/938 [==============================] - 7s 8ms/step - loss: 0.0119 - accuracy: 0.9964\n",
            "Epoch 6/10\n",
            "938/938 [==============================] - 7s 8ms/step - loss: 0.0105 - accuracy: 0.9967\n",
            "Epoch 7/10\n",
            "938/938 [==============================] - 7s 8ms/step - loss: 0.0088 - accuracy: 0.9974\n",
            "Epoch 8/10\n",
            "938/938 [==============================] - 7s 8ms/step - loss: 0.0067 - accuracy: 0.9981\n",
            "Epoch 9/10\n",
            "938/938 [==============================] - 7s 8ms/step - loss: 0.0062 - accuracy: 0.9984\n",
            "Epoch 10/10\n",
            "938/938 [==============================] - 7s 8ms/step - loss: 0.0057 - accuracy: 0.9983\n"
          ],
          "name": "stdout"
        },
        {
          "output_type": "execute_result",
          "data": {
            "text/plain": [
              "<keras.callbacks.History at 0x7f3535bc8e50>"
            ]
          },
          "metadata": {},
          "execution_count": 38
        }
      ]
    },
    {
      "cell_type": "code",
      "metadata": {
        "id": "H4MhJEoUvCm0",
        "colab": {
          "base_uri": "https://localhost:8080/"
        },
        "outputId": "201663e2-28d0-404f-d2a5-1758b1a798d9"
      },
      "source": [
        "test_loss, test_acc = model.evaluate(test_images, test_labels)\n",
        "print('test_acc = ',test_acc)"
      ],
      "execution_count": 39,
      "outputs": [
        {
          "output_type": "stream",
          "text": [
            "313/313 [==============================] - 1s 4ms/step - loss: 0.0317 - accuracy: 0.9934\n",
            "test_acc =  0.993399977684021\n"
          ],
          "name": "stdout"
        }
      ]
    },
    {
      "cell_type": "code",
      "metadata": {
        "id": "HZrE6QuDUC2V",
        "colab": {
          "base_uri": "https://localhost:8080/",
          "height": 300
        },
        "outputId": "c7286a07-23ce-4b6e-de78-197e83bb7f2f"
      },
      "source": [
        "from PIL import Image, ImageOps\n",
        "import matplotlib.pyplot as plt\n",
        "image = Image.open('num_3.png' ).convert('LA')\n",
        "image = ImageOps.grayscale(image)\n",
        "image = np.asarray(image.resize((28,28)))\n",
        "image = 255. - image\n",
        "plt.imshow(image, cmap='Greys')\n",
        "print(np.asarray(image).shape)\n",
        "# model.predict(image.reshape(1, 28,28,1).astype('float64') / 255)\n",
        "model.predict(image.reshape(1, 28,28,1))"
      ],
      "execution_count": 47,
      "outputs": [
        {
          "output_type": "stream",
          "text": [
            "(28, 28)\n"
          ],
          "name": "stdout"
        },
        {
          "output_type": "execute_result",
          "data": {
            "text/plain": [
              "array([[0., 0., 0., 1., 0., 0., 0., 0., 0., 0.]], dtype=float32)"
            ]
          },
          "metadata": {},
          "execution_count": 47
        },
        {
          "output_type": "display_data",
          "data": {
            "image/png": "[encoded data removed]",
            "text/plain": [
              "<Figure size 432x288 with 1 Axes>"
            ]
          },
          "metadata": {
            "needs_background": "light"
          }
        }
      ]
    },
    {
      "cell_type": "markdown",
      "metadata": {
        "id": "tlNf7x0ktFKT"
      },
      "source": [
        "### what if we do not use deep learning model"
      ]
    },
    {
      "cell_type": "code",
      "metadata": {
        "id": "uyXhUMT-tD4b"
      },
      "source": [
        "# just for reference\n",
        "from sklearn.model_selection import train_test_split\n",
        "from sklearn import datasets, svm, metrics\n",
        "from sklearn.linear_model import SGDClassifier\n",
        "from sklearn.metrics import accuracy_score\n",
        "import numpy as np\n",
        "(train_images, train_labels), (test_images, test_labels) = mnist.load_data()\n",
        "train_images = train_images.reshape((60000, 28*28*1))\n",
        "X = train_images.astype('float32')/255         # scaling\n",
        "y = train_labels\n",
        "X_train, X_test, y_train, y_test = train_test_split(X, y, test_size=0.25)"
      ],
      "execution_count": 16,
      "outputs": []
    },
    {
      "cell_type": "code",
      "metadata": {
        "colab": {
          "base_uri": "https://localhost:8080/"
        },
        "id": "AyQX8koWuJey",
        "outputId": "5cca409f-088c-4559-c1fc-68ac6ca4ba96"
      },
      "source": [
        "X_train.shape, X_test.shape, y_train.shape, y_test.shape"
      ],
      "execution_count": 17,
      "outputs": [
        {
          "output_type": "execute_result",
          "data": {
            "text/plain": [
              "((45000, 784), (15000, 784), (45000,), (15000,))"
            ]
          },
          "metadata": {},
          "execution_count": 17
        }
      ]
    },
    {
      "cell_type": "code",
      "metadata": {
        "colab": {
          "base_uri": "https://localhost:8080/"
        },
        "id": "-hFiwQZjutaq",
        "outputId": "a0dd7b32-60ee-4f08-e372-ff141ed5fbea"
      },
      "source": [
        "clf = SGDClassifier(max_iter=200)\n",
        "clf.fit(X_train, y_train)\n",
        "y_pred = clf.predict(X_test)\n",
        "print(accuracy_score(y_test, y_pred))"
      ],
      "execution_count": 19,
      "outputs": [
        {
          "output_type": "stream",
          "text": [
            "0.9112\n"
          ],
          "name": "stdout"
        }
      ]
    }
  ]
}