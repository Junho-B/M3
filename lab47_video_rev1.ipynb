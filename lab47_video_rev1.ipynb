{
  "nbformat": 4,
  "nbformat_minor": 0,
  "metadata": {
    "kernelspec": {
      "display_name": "Python 3",
      "language": "python",
      "name": "python3"
    },
    "language_info": {
      "codemirror_mode": {
        "name": "ipython",
        "version": 3
      },
      "file_extension": ".py",
      "mimetype": "text/x-python",
      "name": "python",
      "nbconvert_exporter": "python",
      "pygments_lexer": "ipython3",
      "version": "3.6.8"
    },
    "colab": {
      "name": "lab47_video_rev1.ipynb",
      "provenance": [],
      "collapsed_sections": [],
      "include_colab_link": true
    }
  },
  "cells": [
    {
      "cell_type": "markdown",
      "metadata": {
        "id": "view-in-github",
        "colab_type": "text"
      },
      "source": [
        "<a href=\"https://colab.research.google.com/github/rtajeong/M3/blob/main/lab47_video_rev1.ipynb\" target=\"_parent\"><img src=\"https://colab.research.google.com/assets/colab-badge.svg\" alt=\"Open In Colab\"/></a>"
      ]
    },
    {
      "cell_type": "markdown",
      "metadata": {
        "id": "6HM7yCMn2cLs"
      },
      "source": [
        "# 동영상 재생"
      ]
    },
    {
      "cell_type": "markdown",
      "metadata": {
        "id": "ibFdJ3g82cMG"
      },
      "source": [
        "### Camera로 부터 영상 재생 - Camera로부터 영상을 읽어, 화면에 보이기 위한 절차\n",
        "\n",
        "- VideoCapture Object를 생성합니다. 변수로는 camera device index나 동영상 파일명을 \n",
        "  넘겨줍니다. 일반적으로 0 이면 Camera와 연결이 됩니다.\n",
        "- Loop를 돌면서 frame을 읽어 들입니다.\n",
        "- 읽은 frame에 대해서 변환작업을 수행한 후, 화면에 보여줍니다.\n",
        "- 영상 재생이 끝나면, VideoCapure Object를 release하고 window를 닫습니다."
      ]
    },
    {
      "cell_type": "markdown",
      "metadata": {
        "id": "V91IgEW52cMI"
      },
      "source": [
        "- 동영상 재생시에는 해당 동영상의 Codec이 설치되어 있어야 합니다.\n",
        "\n",
        "- fourcc정보는 cv2.VideoWriter_fourcc('M','J','P','G') 또는 cv2.VideoWriter_fourcc(*'MJPG) \n",
        "  와 같이 표현할 수 있습니다. 각 OS마다 지원하는 codec 다릅니다.(Windows는 DIVX)"
      ]
    },
    {
      "cell_type": "code",
      "metadata": {
        "id": "oaXtulVK2cMI"
      },
      "source": [
        "import cv2\n",
        "import numpy as np"
      ],
      "execution_count": null,
      "outputs": []
    },
    {
      "cell_type": "code",
      "metadata": {
        "colab": {
          "base_uri": "https://localhost:8080/"
        },
        "id": "e2RM7RCwgtod",
        "outputId": "bfecd723-c2a0-4ec4-daef-bab39a7b3641"
      },
      "source": [
        "cap = cv2.VideoCapture(0)\n",
        "cap.isOpened()"
      ],
      "execution_count": null,
      "outputs": [
        {
          "output_type": "execute_result",
          "data": {
            "text/plain": [
              "False"
            ]
          },
          "metadata": {},
          "execution_count": 2
        }
      ]
    },
    {
      "cell_type": "code",
      "metadata": {
        "id": "9VVCJevQ2cMK",
        "colab": {
          "base_uri": "https://localhost:8080/",
          "height": 166
        },
        "outputId": "44d905b2-c887-4a04-b80e-9b2974339dbc"
      },
      "source": [
        "import sys\n",
        "cap = cv2.VideoCapture(0)\n",
        "# 열렸는지 확인\n",
        "if not cap.isOpened():\n",
        "    print(\"Camera open failed!\")\n",
        "    sys.exit()\n",
        "\n",
        "fmt = cv2.VideoWriter_fourcc('m','p','4','v')\n",
        "# fmt = cv2.VideoWriter_fourcc('d','i','v','x')\n",
        "fps = 20.0\n",
        "size = (640,360)\n",
        "writer = cv2.VideoWriter('test2.m4v', fmt, fps, size)"
      ],
      "execution_count": null,
      "outputs": [
        {
          "output_type": "stream",
          "name": "stdout",
          "text": [
            "Camera open failed!\n"
          ]
        },
        {
          "output_type": "error",
          "ename": "SystemExit",
          "evalue": "ignored",
          "traceback": [
            "An exception has occurred, use %tb to see the full traceback.\n",
            "\u001b[0;31mSystemExit\u001b[0m\n"
          ]
        },
        {
          "output_type": "stream",
          "name": "stderr",
          "text": [
            "/usr/local/lib/python3.7/dist-packages/IPython/core/interactiveshell.py:2890: UserWarning: To exit: use 'exit', 'quit', or Ctrl-D.\n",
            "  warn(\"To exit: use 'exit', 'quit', or Ctrl-D.\", stacklevel=1)\n"
          ]
        }
      ]
    },
    {
      "cell_type": "code",
      "metadata": {
        "id": "hF5eNq8R2cML"
      },
      "source": [
        "while True: \n",
        "    _, frame = cap.read()\n",
        "    frame = cv2.resize(frame, size)\n",
        "    writer.write(frame)\n",
        "    cv2.imshow('frame', frame)\n",
        "    if cv2.waitKey(1) == 27:    # Esc  key\n",
        "        break\n",
        "\n",
        "writer.release()\n",
        "cap.release()\n",
        "cv2.destroyAllWindows()"
      ],
      "execution_count": null,
      "outputs": []
    },
    {
      "cell_type": "markdown",
      "metadata": {
        "id": "IkCgtyVYXdva"
      },
      "source": [
        ""
      ]
    },
    {
      "cell_type": "markdown",
      "metadata": {
        "id": "neTaupMKXeGM"
      },
      "source": [
        "# 동영상 capture\n",
        "- Deep learning 모델 훈련을 위해 필요한 데이터는 대부분 동영상에서 수집된다.\n",
        "- 데이터를 수집할 때 양상을 초 단위로 끊어 이미지로 만들어야 한다.\n",
        "- OpenCV 를 통해 동영상 캡처하는 방법 소개"
      ]
    },
    {
      "cell_type": "code",
      "metadata": {
        "id": "AtnSp9bh2cML",
        "colab": {
          "base_uri": "https://localhost:8080/"
        },
        "outputId": "85354026-a6a0-42b2-d5fc-0873d1440a19"
      },
      "source": [
        "# 동영상 다운로드를 위한 라이브러리 설치\n",
        "!pip install pytube"
      ],
      "execution_count": null,
      "outputs": [
        {
          "output_type": "stream",
          "name": "stdout",
          "text": [
            "Requirement already satisfied: pytube in /usr/local/lib/python3.7/dist-packages (11.0.2)\n"
          ]
        }
      ]
    },
    {
      "cell_type": "code",
      "metadata": {
        "id": "T2mtl1-DYFj5"
      },
      "source": [
        "import cv2\n",
        "from google.colab import drive\n",
        "from pytube import YouTube"
      ],
      "execution_count": null,
      "outputs": []
    },
    {
      "cell_type": "code",
      "metadata": {
        "colab": {
          "base_uri": "https://localhost:8080/",
          "height": 35
        },
        "id": "1YIOuYmsYVnR",
        "outputId": "8b0d3edd-dad2-443d-f392-6526b9697c5c"
      },
      "source": [
        "# 동영상 다운 로드\n",
        "yt = YouTube(\"https://youtu.be/OwJPPaEyqhI\")\n",
        "yt = yt.streams.filter(progressive=True, file_extension='mp4').order_by('resolution').desc().first()\n",
        "yt.download('/content/')"
      ],
      "execution_count": null,
      "outputs": [
        {
          "output_type": "execute_result",
          "data": {
            "application/vnd.google.colaboratory.intrinsic+json": {
              "type": "string"
            },
            "text/plain": [
              "'/content/PSY - ‘New Face’ MV.mp4'"
            ]
          },
          "metadata": {},
          "execution_count": 5
        }
      ]
    },
    {
      "cell_type": "code",
      "metadata": {
        "id": "QSyq1r1_Y_Ey"
      },
      "source": [
        "# 비디오 경로 지정\n",
        "video_path = \"/content/PSY - ‘New Face’ MV.mp4\""
      ],
      "execution_count": null,
      "outputs": []
    },
    {
      "cell_type": "code",
      "metadata": {
        "colab": {
          "base_uri": "https://localhost:8080/"
        },
        "id": "wm2NeoyIbXOQ",
        "outputId": "e4b6b035-d54e-4b09-9298-ec5c2035e026"
      },
      "source": [
        "!ls -la"
      ],
      "execution_count": null,
      "outputs": [
        {
          "output_type": "stream",
          "name": "stdout",
          "text": [
            "total 54080\n",
            "drwxr-xr-x 1 root root     4096 Jan 19 10:07  .\n",
            "drwxr-xr-x 1 root root     4096 Jan 19 10:07  ..\n",
            "drwxr-xr-x 4 root root     4096 Jan  7 14:33  .config\n",
            "-rw-r--r-- 1 root root 55358914 Jan 19 10:07 'PSY - ‘New Face’ MV.mp4'\n",
            "drwxr-xr-x 1 root root     4096 Jan  7 14:33  sample_data\n"
          ]
        }
      ]
    },
    {
      "cell_type": "code",
      "metadata": {
        "colab": {
          "base_uri": "https://localhost:8080/"
        },
        "id": "sHRvSbzrGbw2",
        "outputId": "d63aff3e-0204-4256-b37e-eb81d922cf3c"
      },
      "source": [
        "video = cv2.VideoCapture(video_path)\n",
        "fps = video.get(cv2.CAP_PROP_FPS)\n",
        "fps"
      ],
      "execution_count": null,
      "outputs": [
        {
          "output_type": "execute_result",
          "data": {
            "text/plain": [
              "23.976023976023978"
            ]
          },
          "metadata": {},
          "execution_count": 8
        }
      ]
    },
    {
      "cell_type": "code",
      "metadata": {
        "id": "wgGAdO1NZEaD"
      },
      "source": [
        "# 영상 캡처하기\n",
        "# make a directory \"test\" before you run it\n",
        "!mkdir test\n",
        "\n",
        "video = cv2.VideoCapture(video_path)\n",
        "success = True\n",
        "count = 1\n",
        "while success:\n",
        "  success, frame = video.read()\n",
        "  name = '/content/test/'+str(count)+'.jpg'\n",
        "  if success == True:\n",
        "    cv2.imwrite(name,frame)\n",
        "    print('Frame {} Extracted Successfully'.format(count))\n",
        "    count = count+1\n",
        "  else:\n",
        "    break"
      ],
      "execution_count": null,
      "outputs": []
    }
  ]
}