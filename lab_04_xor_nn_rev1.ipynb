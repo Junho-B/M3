{
  "nbformat": 4,
  "nbformat_minor": 0,
  "metadata": {
    "colab": {
      "name": "lab_04_xor_nn_rev1.ipynb",
      "provenance": [],
      "collapsed_sections": [],
      "authorship_tag": "ABX9TyM8xP2yAv9vhIYkRzVhiNdp",
      "include_colab_link": true
    },
    "kernelspec": {
      "name": "python3",
      "display_name": "Python 3"
    },
    "accelerator": "GPU"
  },
  "cells": [
    {
      "cell_type": "markdown",
      "metadata": {
        "id": "view-in-github",
        "colab_type": "text"
      },
      "source": [
        "<a href=\"https://colab.research.google.com/github/rtajeong/M3/blob/main/lab_04_xor_nn_rev1.ipynb\" target=\"_parent\"><img src=\"https://colab.research.google.com/assets/colab-badge.svg\" alt=\"Open In Colab\"/></a>"
      ]
    },
    {
      "cell_type": "markdown",
      "metadata": {
        "id": "Rkmy3I72suHZ"
      },
      "source": [
        "# EXOR problem"
      ]
    },
    {
      "cell_type": "markdown",
      "metadata": {
        "id": "MZxv8FwEyizl"
      },
      "source": [
        "# Let's try to solve this problem using SVC and DecisionTree"
      ]
    },
    {
      "cell_type": "code",
      "metadata": {
        "colab": {
          "base_uri": "https://localhost:8080/"
        },
        "id": "V-Lya8Bbyv8J",
        "outputId": "836a96be-9ae6-47f5-eea6-83339ae8ca4a"
      },
      "source": [
        "import numpy as np\n",
        "\n",
        "X = np.array([[0, 0], \n",
        "              [0, 1], \n",
        "              [1, 0], \n",
        "              [1, 1]])\n",
        "Y = np.array([[0], \n",
        "              [1], \n",
        "              [1], \n",
        "              [0]])\n",
        "\n",
        "from sklearn.svm import SVC\n",
        "clf1 = SVC(kernel='linear')\n",
        "clf2 = SVC(kernel=\"rbf\", C=1e-5, gamma=1e-5, probability=True)\n",
        "clf3 = SVC(kernel=\"rbf\", C=1000, gamma=0.1, probability=True)\n",
        "clf1.fit(X, Y)\n",
        "clf2.fit(X, Y.ravel())\n",
        "clf3.fit(X, Y.ravel())\n",
        "print(clf1.predict(X))\n",
        "print(clf2.predict(X))\n",
        "print(clf3.predict(X))"
      ],
      "execution_count": null,
      "outputs": [
        {
          "output_type": "stream",
          "text": [
            "[1 1 1 1]\n",
            "[0 1 1 0]\n",
            "[0 1 1 0]\n"
          ],
          "name": "stdout"
        },
        {
          "output_type": "stream",
          "text": [
            "/usr/local/lib/python3.6/dist-packages/sklearn/utils/validation.py:760: DataConversionWarning: A column-vector y was passed when a 1d array was expected. Please change the shape of y to (n_samples, ), for example using ravel().\n",
            "  y = column_or_1d(y, warn=True)\n"
          ],
          "name": "stderr"
        }
      ]
    },
    {
      "cell_type": "code",
      "metadata": {
        "colab": {
          "base_uri": "https://localhost:8080/"
        },
        "id": "IXXdrkuJy7Cw",
        "outputId": "220a860d-ec36-4f85-946b-741e41d1c292"
      },
      "source": [
        "from sklearn.tree import DecisionTreeClassifier\n",
        "clf1 = DecisionTreeClassifier(max_depth=1)\n",
        "clf2 = DecisionTreeClassifier(max_depth=2)\n",
        "clf1.fit(X, Y)\n",
        "clf2.fit(X, Y)\n",
        "clf1.predict(X), clf2.predict(X)"
      ],
      "execution_count": null,
      "outputs": [
        {
          "output_type": "execute_result",
          "data": {
            "text/plain": [
              "(array([0, 0, 0, 0]), array([0, 1, 1, 0]))"
            ]
          },
          "metadata": {
            "tags": []
          },
          "execution_count": 5
        }
      ]
    },
    {
      "cell_type": "markdown",
      "metadata": {
        "id": "X3-lhKVHyr7g"
      },
      "source": [
        "## Now, let's try this with Tensorflow"
      ]
    },
    {
      "cell_type": "code",
      "metadata": {
        "id": "YCtd600K_XZA",
        "colab": {
          "base_uri": "https://localhost:8080/"
        },
        "outputId": "7ae1116a-d9ce-4417-e8ff-1a08aed6e80b"
      },
      "source": [
        "import tensorflow as tf\n",
        "import numpy as np\n",
        "import matplotlib.pyplot as plt\n",
        "%matplotlib inline\n",
        "\n",
        "np.random.seed(22)  # for reproducibility\n",
        "\n",
        "X = np.array([[0, 0], [0, 1], [1, 0], [1, 1]], dtype=np.float32)\n",
        "Y = np.array([[0], [1], [1], [0]], dtype=np.float32)\n",
        "\n",
        "W = tf.Variable(tf.random.normal([2, 1]), name=\"weight\")\n",
        "b = tf.Variable(tf.random.normal([1]), name=\"bias\")\n",
        "# W = tf.Variable([[2.],[10.]])\n",
        "# b = tf.Variable([3.])\n",
        "\n",
        "\n",
        "learning_rate = 0.1\n",
        "lossHistory = []\n",
        "\n",
        "for step in range(500):\n",
        "    with tf.GradientTape() as tape:\n",
        "        hypothesis = tf.sigmoid(tf.matmul(X, W) + b)\n",
        "        cost = -tf.reduce_mean(Y * tf.math.log(hypothesis) + \n",
        "                               (1 - Y) * tf.math.log(1 - hypothesis))\n",
        "\n",
        "    W_grad, b_grad = tape.gradient(cost, [W,b])  # dCost/dw, dCost/db\n",
        "    W.assign_sub(learning_rate * W_grad)\n",
        "    b.assign_sub(learning_rate * b_grad)\n",
        "    lossHistory.append(cost)\n",
        "\n",
        "    # if step % 10 == 0: print(step, cost.numpy(), W.numpy(), b.numpy())\n",
        "\n",
        "predicted = tf.cast(hypothesis > 0.5, dtype=tf.float32)\n",
        "accuracy = tf.reduce_mean(tf.cast(tf.equal(predicted, Y), dtype=tf.float32))\n",
        "\n",
        "print(W, b)\n",
        "print(X.shape, W.shape, Y.shape)\n",
        "print(\"\\nHypothesis: \", hypothesis.numpy(), \n",
        "      \"\\n Correct: \", predicted.numpy(), \n",
        "      \"\\n Accuracy: \", accuracy.numpy())\n",
        "\n"
      ],
      "execution_count": null,
      "outputs": [
        {
          "output_type": "stream",
          "text": [
            "<tf.Variable 'weight:0' shape=(2, 1) dtype=float32, numpy=\n",
            "array([[0.03719985],\n",
            "       [0.01473782]], dtype=float32)> <tf.Variable 'bias:0' shape=(1,) dtype=float32, numpy=array([-0.03080301], dtype=float32)>\n",
            "(4, 2) (2, 1) (4, 1)\n",
            "\n",
            "Hypothesis:  [[0.49226955]\n",
            " [0.4959614 ]\n",
            " [0.5016121 ]\n",
            " [0.5053043 ]] \n",
            " Correct:  [[0.]\n",
            " [0.]\n",
            " [1.]\n",
            " [1.]] \n",
            " Accuracy:  0.5\n"
          ],
          "name": "stdout"
        }
      ]
    },
    {
      "cell_type": "code",
      "metadata": {
        "id": "1LW3P-g-t0IE",
        "colab": {
          "base_uri": "https://localhost:8080/",
          "height": 283
        },
        "outputId": "2a91c947-955e-459d-936a-35d127f476cb"
      },
      "source": [
        "aa, bb, cc = W[0,0].numpy(), W[1,0].numpy(), b.numpy()\n",
        "plt.scatter(X[:,0], X[:,1], c=Y)\n",
        "xx = np.linspace(-1,1,20)\n",
        "plt.plot(xx, -aa/bb* xx - b/bb)"
      ],
      "execution_count": null,
      "outputs": [
        {
          "output_type": "execute_result",
          "data": {
            "text/plain": [
              "[<matplotlib.lines.Line2D at 0x7fbe0047cbe0>]"
            ]
          },
          "metadata": {
            "tags": []
          },
          "execution_count": 7
        },
        {
          "output_type": "display_data",
          "data": {
            "image/png": "[encoded data removed]",
            "text/plain": [
              "<Figure size 432x288 with 1 Axes>"
            ]
          },
          "metadata": {
            "tags": [],
            "needs_background": "light"
          }
        }
      ]
    },
    {
      "cell_type": "code",
      "metadata": {
        "id": "Jz-bZNgmJAsD",
        "colab": {
          "base_uri": "https://localhost:8080/",
          "height": 282
        },
        "outputId": "3f84d324-fe5c-475b-9d0f-8c3d64aa646c"
      },
      "source": [
        "plt.plot(lossHistory)"
      ],
      "execution_count": null,
      "outputs": [
        {
          "output_type": "execute_result",
          "data": {
            "text/plain": [
              "[<matplotlib.lines.Line2D at 0x7f92ec09a828>]"
            ]
          },
          "metadata": {
            "tags": []
          },
          "execution_count": 6
        },
        {
          "output_type": "display_data",
          "data": {
            "image/png": "[encoded data removed]",
            "text/plain": [
              "<Figure size 432x288 with 1 Axes>"
            ]
          },
          "metadata": {
            "tags": [],
            "needs_background": "light"
          }
        }
      ]
    },
    {
      "cell_type": "markdown",
      "metadata": {
        "id": "8dyKMrRbTg3S"
      },
      "source": [
        "# EXOR problem with Keras"
      ]
    },
    {
      "cell_type": "code",
      "metadata": {
        "id": "p04WDq1WDM_j",
        "colab": {
          "base_uri": "https://localhost:8080/"
        },
        "outputId": "04c98e87-d3a4-48f1-c66a-b0eb01e35c2c"
      },
      "source": [
        "from tensorflow.keras.models import Sequential\n",
        "from tensorflow.keras.layers import Dense, Flatten\n",
        "from tensorflow.keras.optimizers import SGD, Adam\n",
        "\n",
        "X = np.array([[0,0],[0,1],[1,0],[1,1]])\n",
        "Y = np.array([[0],[1],[1],[0]])\n",
        "\n",
        "model = Sequential()\n",
        "model.add(Dense(1, input_shape=(2,), activation='sigmoid'))\n",
        "model.summary()\n",
        "\n",
        "model.compile(optimizer=Adam(learning_rate=0.1), \n",
        "              loss='binary_crossentropy',\n",
        "              metrics=['accuracy'])\n",
        "history = model.fit(X, Y, epochs=1000, verbose=0)\n",
        "print(model.predict(X))\n",
        "# print([i.numpy() for i in model.weights])"
      ],
      "execution_count": null,
      "outputs": [
        {
          "output_type": "stream",
          "text": [
            "Model: \"sequential_3\"\n",
            "_________________________________________________________________\n",
            "Layer (type)                 Output Shape              Param #   \n",
            "=================================================================\n",
            "dense_3 (Dense)              (None, 1)                 3         \n",
            "=================================================================\n",
            "Total params: 3\n",
            "Trainable params: 3\n",
            "Non-trainable params: 0\n",
            "_________________________________________________________________\n",
            "[[0.50000006]\n",
            " [0.5       ]\n",
            " [0.5       ]\n",
            " [0.5       ]]\n"
          ],
          "name": "stdout"
        }
      ]
    },
    {
      "cell_type": "code",
      "metadata": {
        "id": "GSP9LsOKTv-H",
        "colab": {
          "base_uri": "https://localhost:8080/",
          "height": 283
        },
        "outputId": "aee37a1a-e8e5-4140-b73f-4f8f748a9166"
      },
      "source": [
        "plt.subplot(1,2,1)\n",
        "plt.plot(history.history['loss'])\n",
        "plt.subplot(1,2,2)\n",
        "plt.plot(history.history['accuracy'])"
      ],
      "execution_count": null,
      "outputs": [
        {
          "output_type": "execute_result",
          "data": {
            "text/plain": [
              "[<matplotlib.lines.Line2D at 0x7fbda829d0b8>]"
            ]
          },
          "metadata": {
            "tags": []
          },
          "execution_count": 13
        },
        {
          "output_type": "display_data",
          "data": {
            "image/png": "[encoded data removed]",
            "text/plain": [
              "<Figure size 432x288 with 2 Axes>"
            ]
          },
          "metadata": {
            "tags": [],
            "needs_background": "light"
          }
        }
      ]
    },
    {
      "cell_type": "markdown",
      "metadata": {
        "id": "w-g5xa7ZUUpR"
      },
      "source": [
        "# EOR problem with two layers (Tensorflow)"
      ]
    },
    {
      "cell_type": "code",
      "metadata": {
        "colab": {
          "base_uri": "https://localhost:8080/"
        },
        "id": "COE1Fl_BfMaK",
        "outputId": "3e470d14-bf8e-486d-db4b-dddb4854a5b3"
      },
      "source": [
        "import tensorflow as tf\n",
        "import numpy as np\n",
        "import matplotlib.pyplot as plt\n",
        "%matplotlib inline\n",
        "\n",
        "np.random.seed(172)  # for reproducibility\n",
        "\n",
        "X = np.array([[0, 0], [0, 1], [1, 0], [1, 1]], dtype=np.float32)\n",
        "Y = np.array([[0], [1], [1], [0]], dtype=np.float32)\n",
        "\n",
        "W1 = tf.Variable(tf.random.uniform([2, 2], -1.0, 1.0))\n",
        "W2 = tf.Variable(tf.random.uniform([2, 1], -1.0, 1.0))\n",
        "b1 = tf.Variable(tf.random.normal([2]))\n",
        "b2 = tf.Variable(tf.random.normal([1]))\n",
        "\n",
        "learning_rate = 0.1\n",
        "lossHistory = []\n",
        "\n",
        "for step in range(500):\n",
        "    with tf.GradientTape() as tape:\n",
        "        L2 = tf.sigmoid(tf.matmul(X, W1) + b1)\n",
        "        hypothesis = tf.sigmoid(tf.matmul(L2, W2) + b2)\n",
        "        cost = -tf.reduce_mean(Y * tf.math.log(hypothesis) + \n",
        "                               (1 - Y) * tf.math.log(1 - hypothesis))\n",
        "\n",
        "    grads = tape.gradient(cost, [W1, W2, b1, b2])  # dCost/dw, dCost/db\n",
        "    W1.assign_sub(learning_rate * grads[0])\n",
        "    W2.assign_sub(learning_rate * grads[1])\n",
        "    b1.assign_sub(learning_rate * grads[2])\n",
        "    b2.assign_sub(learning_rate * grads[3])\n",
        "    lossHistory.append(cost)\n",
        "\n",
        "    # if step % 10 == 0: print(step, cost.numpy(), W.numpy(), b.numpy())\n",
        "\n",
        "predicted = tf.cast(hypothesis > 0.5, dtype=tf.float32)\n",
        "accuracy = tf.reduce_mean(tf.cast(tf.equal(predicted, Y), dtype=tf.float32))\n",
        "\n",
        "print(W, b)\n",
        "print(X.shape, W.shape, Y.shape)\n",
        "print(\"\\nHypothesis: \", hypothesis.numpy(), \n",
        "      \"\\n Correct: \", predicted.numpy(), \n",
        "      \"\\n Accuracy: \", accuracy.numpy())\n"
      ],
      "execution_count": null,
      "outputs": [
        {
          "output_type": "stream",
          "text": [
            "<tf.Variable 'weight:0' shape=(2, 1) dtype=float32, numpy=\n",
            "array([[0.02286796],\n",
            "       [0.00302933]], dtype=float32)> <tf.Variable 'bias:0' shape=(1,) dtype=float32, numpy=array([-0.01535901], dtype=float32)>\n",
            "(4, 2) (2, 1) (4, 1)\n",
            "\n",
            "Hypothesis:  [[0.47311506]\n",
            " [0.49998116]\n",
            " [0.4948026 ]\n",
            " [0.52330226]] \n",
            " Correct:  [[0.]\n",
            " [0.]\n",
            " [0.]\n",
            " [1.]] \n",
            " Accuracy:  0.25\n"
          ],
          "name": "stdout"
        }
      ]
    },
    {
      "cell_type": "markdown",
      "metadata": {
        "id": "qRscP69wVDiF"
      },
      "source": [
        "- you may or may not have the solution."
      ]
    },
    {
      "cell_type": "markdown",
      "metadata": {
        "id": "ePQ6o1TzhCtC"
      },
      "source": [
        "# EOR problem with two layers (Keras)"
      ]
    },
    {
      "cell_type": "code",
      "metadata": {
        "id": "DgRs6T8uHfhh",
        "colab": {
          "base_uri": "https://localhost:8080/",
          "height": 614
        },
        "outputId": "a2e84807-3c9d-45a6-b17b-3fe88f8b3e67"
      },
      "source": [
        "import numpy as np\n",
        "import matplotlib.pyplot as plt\n",
        "%matplotlib inline\n",
        "from tensorflow.keras.models import Sequential\n",
        "from tensorflow.keras.layers import Dense, Flatten\n",
        "from tensorflow.keras.optimizers import SGD\n",
        "\n",
        "X = np.array([[0,0],[0,1],[1,0],[1,1]])\n",
        "Y = np.array([[0],[1],[1],[0]])\n",
        "\n",
        "model = Sequential()\n",
        "model.add(Dense(8, input_shape=(2,), activation='relu')) # input_shape = (dim_1, dim2, ...)\n",
        "model.add(Dense(1, activation='sigmoid'))\n",
        "model.summary()\n",
        "\n",
        "model.compile(optimizer=SGD(learning_rate=0.1), \n",
        "              loss='binary_crossentropy',\n",
        "              metrics=['accuracy'])\n",
        "history = model.fit(X, Y, epochs=1000, batch_size=4, verbose=0)\n",
        "print(model.predict(X))\n",
        "\n",
        "plt.subplot(1,2,1)\n",
        "plt.plot(history.history['loss'])\n",
        "plt.subplot(1,2,2)\n",
        "plt.plot(history.history['accuracy'])"
      ],
      "execution_count": null,
      "outputs": [
        {
          "output_type": "stream",
          "text": [
            "Model: \"sequential_10\"\n",
            "_________________________________________________________________\n",
            "Layer (type)                 Output Shape              Param #   \n",
            "=================================================================\n",
            "dense_34 (Dense)             (None, 8)                 24        \n",
            "_________________________________________________________________\n",
            "dense_35 (Dense)             (None, 1)                 9         \n",
            "=================================================================\n",
            "Total params: 33\n",
            "Trainable params: 33\n",
            "Non-trainable params: 0\n",
            "_________________________________________________________________\n",
            "WARNING:tensorflow:11 out of the last 11 calls to <function Model.make_predict_function.<locals>.predict_function at 0x7fbd9c4ae268> triggered tf.function retracing. Tracing is expensive and the excessive number of tracings could be due to (1) creating @tf.function repeatedly in a loop, (2) passing tensors with different shapes, (3) passing Python objects instead of tensors. For (1), please define your @tf.function outside of the loop. For (2), @tf.function has experimental_relax_shapes=True option that relaxes argument shapes that can avoid unnecessary retracing. For (3), please refer to https://www.tensorflow.org/guide/function#controlling_retracing and https://www.tensorflow.org/api_docs/python/tf/function for  more details.\n",
            "[[0.12913725]\n",
            " [0.9630346 ]\n",
            " [0.9626619 ]\n",
            " [0.02599105]]\n"
          ],
          "name": "stdout"
        },
        {
          "output_type": "execute_result",
          "data": {
            "text/plain": [
              "[<matplotlib.lines.Line2D at 0x7fbda8399eb8>]"
            ]
          },
          "metadata": {
            "tags": []
          },
          "execution_count": 20
        },
        {
          "output_type": "display_data",
          "data": {
            "image/png": "[encoded data removed]",
            "text/plain": [
              "<Figure size 432x288 with 2 Axes>"
            ]
          },
          "metadata": {
            "tags": [],
            "needs_background": "light"
          }
        }
      ]
    },
    {
      "cell_type": "markdown",
      "metadata": {
        "id": "XcKDmef1wN0z"
      },
      "source": [
        "# Try deep network with sigmoid"
      ]
    },
    {
      "cell_type": "code",
      "metadata": {
        "id": "5c0NwhctNJn9",
        "colab": {
          "base_uri": "https://localhost:8080/",
          "height": 870
        },
        "outputId": "e0d1c1a3-3e3c-45dc-9a7b-e8178ed567ca"
      },
      "source": [
        "X = np.array([[0,0],[0,1],[1,0],[1,1]])\n",
        "Y = np.array([[0],[1],[1],[0]])\n",
        "\n",
        "model = Sequential()\n",
        "model.add(Dense(8, input_shape=(2,), activation='sigmoid'))\n",
        "model.add(Dense(8, activation='sigmoid'))\n",
        "model.add(Dense(8, activation='sigmoid'))\n",
        "model.add(Dense(8, activation='sigmoid'))\n",
        "model.add(Dense(8, activation='sigmoid'))\n",
        "model.add(Dense(8, activation='sigmoid'))\n",
        "model.add(Dense(8, activation='sigmoid'))\n",
        "model.add(Dense(1, activation='sigmoid'))\n",
        "model.summary()\n",
        "\n",
        "model.compile(optimizer=SGD(learning_rate=0.1), \n",
        "              loss='binary_crossentropy',\n",
        "              metrics=['accuracy'])\n",
        "history = model.fit(X, Y, epochs=100, batch_size=1, verbose=0)\n",
        "print(model.predict_proba(X))\n",
        "\n",
        "plt.subplot(1,2,1)\n",
        "plt.plot(history.history['loss'])\n",
        "plt.subplot(1,2,2)\n",
        "plt.plot(history.history['accuracy'])"
      ],
      "execution_count": null,
      "outputs": [
        {
          "output_type": "stream",
          "text": [
            "Model: \"sequential_9\"\n",
            "_________________________________________________________________\n",
            "Layer (type)                 Output Shape              Param #   \n",
            "=================================================================\n",
            "dense_26 (Dense)             (None, 8)                 24        \n",
            "_________________________________________________________________\n",
            "dense_27 (Dense)             (None, 8)                 72        \n",
            "_________________________________________________________________\n",
            "dense_28 (Dense)             (None, 8)                 72        \n",
            "_________________________________________________________________\n",
            "dense_29 (Dense)             (None, 8)                 72        \n",
            "_________________________________________________________________\n",
            "dense_30 (Dense)             (None, 8)                 72        \n",
            "_________________________________________________________________\n",
            "dense_31 (Dense)             (None, 8)                 72        \n",
            "_________________________________________________________________\n",
            "dense_32 (Dense)             (None, 8)                 72        \n",
            "_________________________________________________________________\n",
            "dense_33 (Dense)             (None, 1)                 9         \n",
            "=================================================================\n",
            "Total params: 465\n",
            "Trainable params: 465\n",
            "Non-trainable params: 0\n",
            "_________________________________________________________________\n",
            "WARNING:tensorflow:10 out of the last 10 calls to <function Model.make_predict_function.<locals>.predict_function at 0x7fbd9c51d048> triggered tf.function retracing. Tracing is expensive and the excessive number of tracings could be due to (1) creating @tf.function repeatedly in a loop, (2) passing tensors with different shapes, (3) passing Python objects instead of tensors. For (1), please define your @tf.function outside of the loop. For (2), @tf.function has experimental_relax_shapes=True option that relaxes argument shapes that can avoid unnecessary retracing. For (3), please refer to https://www.tensorflow.org/guide/function#controlling_retracing and https://www.tensorflow.org/api_docs/python/tf/function for  more details.\n",
            "[[0.5189613 ]\n",
            " [0.51895595]\n",
            " [0.51896316]\n",
            " [0.518958  ]]\n"
          ],
          "name": "stdout"
        },
        {
          "output_type": "stream",
          "text": [
            "/usr/local/lib/python3.6/dist-packages/tensorflow/python/keras/engine/sequential.py:425: UserWarning: `model.predict_proba()` is deprecated and will be removed after 2021-01-01. Please use `model.predict()` instead.\n",
            "  warnings.warn('`model.predict_proba()` is deprecated and '\n"
          ],
          "name": "stderr"
        },
        {
          "output_type": "execute_result",
          "data": {
            "text/plain": [
              "[<matplotlib.lines.Line2D at 0x7fbda82eb7f0>]"
            ]
          },
          "metadata": {
            "tags": []
          },
          "execution_count": 19
        },
        {
          "output_type": "display_data",
          "data": {
            "image/png": "[encoded data removed]",
            "text/plain": [
              "<Figure size 432x288 with 2 Axes>"
            ]
          },
          "metadata": {
            "tags": [],
            "needs_background": "light"
          }
        }
      ]
    },
    {
      "cell_type": "markdown",
      "metadata": {
        "id": "mrFFm0jBwWHu"
      },
      "source": [
        "# Now, we change activation function to \"relu\""
      ]
    },
    {
      "cell_type": "code",
      "metadata": {
        "id": "XvQA-K8ivbJr",
        "colab": {
          "base_uri": "https://localhost:8080/",
          "height": 797
        },
        "outputId": "9075d6a8-4410-4299-f3be-6bf929e91309"
      },
      "source": [
        "X = np.array([[0,0],[0,1],[1,0],[1,1]])\n",
        "Y = np.array([[0],[1],[1],[0]])\n",
        "\n",
        "model = Sequential()\n",
        "model.add(Dense(8, input_shape=(2,), activation='relu'))\n",
        "model.add(Dense(8, activation='relu'))\n",
        "model.add(Dense(8, activation='relu'))\n",
        "model.add(Dense(8, activation='relu'))\n",
        "model.add(Dense(8, activation='relu'))\n",
        "model.add(Dense(1, activation='sigmoid'))\n",
        "model.summary()\n",
        "\n",
        "history = model.compile(optimizer=SGD(learning_rate=0.01), \n",
        "              loss='binary_crossentropy',\n",
        "              metrics=['accuracy'])\n",
        "history = model.fit(X, Y, epochs=1000, batch_size=1, verbose=0)\n",
        "print(model.predict_proba(X))\n",
        "\n",
        "plt.subplot(1,2,1)\n",
        "plt.plot(history.history['loss'])\n",
        "plt.subplot(1,2,2)\n",
        "plt.plot(history.history['accuracy'])"
      ],
      "execution_count": null,
      "outputs": [
        {
          "output_type": "stream",
          "text": [
            "Model: \"sequential_11\"\n",
            "_________________________________________________________________\n",
            "Layer (type)                 Output Shape              Param #   \n",
            "=================================================================\n",
            "dense_36 (Dense)             (None, 8)                 24        \n",
            "_________________________________________________________________\n",
            "dense_37 (Dense)             (None, 8)                 72        \n",
            "_________________________________________________________________\n",
            "dense_38 (Dense)             (None, 8)                 72        \n",
            "_________________________________________________________________\n",
            "dense_39 (Dense)             (None, 8)                 72        \n",
            "_________________________________________________________________\n",
            "dense_40 (Dense)             (None, 8)                 72        \n",
            "_________________________________________________________________\n",
            "dense_41 (Dense)             (None, 1)                 9         \n",
            "=================================================================\n",
            "Total params: 321\n",
            "Trainable params: 321\n",
            "Non-trainable params: 0\n",
            "_________________________________________________________________\n",
            "WARNING:tensorflow:11 out of the last 11 calls to <function Model.make_predict_function.<locals>.predict_function at 0x7fbda8152730> triggered tf.function retracing. Tracing is expensive and the excessive number of tracings could be due to (1) creating @tf.function repeatedly in a loop, (2) passing tensors with different shapes, (3) passing Python objects instead of tensors. For (1), please define your @tf.function outside of the loop. For (2), @tf.function has experimental_relax_shapes=True option that relaxes argument shapes that can avoid unnecessary retracing. For (3), please refer to https://www.tensorflow.org/guide/function#controlling_retracing and https://www.tensorflow.org/api_docs/python/tf/function for  more details.\n",
            "[[0.20148101]\n",
            " [0.99620205]\n",
            " [0.99485105]\n",
            " [0.00206146]]\n"
          ],
          "name": "stdout"
        },
        {
          "output_type": "stream",
          "text": [
            "/usr/local/lib/python3.6/dist-packages/tensorflow/python/keras/engine/sequential.py:425: UserWarning: `model.predict_proba()` is deprecated and will be removed after 2021-01-01. Please use `model.predict()` instead.\n",
            "  warnings.warn('`model.predict_proba()` is deprecated and '\n"
          ],
          "name": "stderr"
        },
        {
          "output_type": "execute_result",
          "data": {
            "text/plain": [
              "[<matplotlib.lines.Line2D at 0x7fbda8343ba8>]"
            ]
          },
          "metadata": {
            "tags": []
          },
          "execution_count": 21
        },
        {
          "output_type": "display_data",
          "data": {
            "image/png": "[encoded data removed]",
            "text/plain": [
              "<Figure size 432x288 with 2 Axes>"
            ]
          },
          "metadata": {
            "tags": [],
            "needs_background": "light"
          }
        }
      ]
    },
    {
      "cell_type": "markdown",
      "metadata": {
        "id": "9nstPZ0ARW4p"
      },
      "source": [
        "# Exercise (연습)"
      ]
    },
    {
      "cell_type": "code",
      "metadata": {
        "id": "rLixpiY8xOO3",
        "colab": {
          "base_uri": "https://localhost:8080/"
        },
        "outputId": "f83802f1-8b53-4ebf-a7fc-5dbc0ab90096"
      },
      "source": [
        "hypothesis = 0.401\n",
        "hypothesis > 0.5\n",
        "tf.cast(hypothesis > 0.5, dtype=tf.float32)"
      ],
      "execution_count": null,
      "outputs": [
        {
          "output_type": "execute_result",
          "data": {
            "text/plain": [
              "<tf.Tensor: shape=(), dtype=float32, numpy=0.0>"
            ]
          },
          "metadata": {
            "tags": []
          },
          "execution_count": 13
        }
      ]
    },
    {
      "cell_type": "code",
      "metadata": {
        "id": "rgFlzGspRsuk",
        "colab": {
          "base_uri": "https://localhost:8080/"
        },
        "outputId": "938d19e7-da5a-49da-beaf-53349cb49f10"
      },
      "source": [
        "a = tf.constant(True)\n",
        "tf.cast(a, dtype=tf.float32) + 1.0"
      ],
      "execution_count": null,
      "outputs": [
        {
          "output_type": "execute_result",
          "data": {
            "text/plain": [
              "<tf.Tensor: shape=(), dtype=float32, numpy=2.0>"
            ]
          },
          "metadata": {
            "tags": []
          },
          "execution_count": 14
        }
      ]
    },
    {
      "cell_type": "code",
      "metadata": {
        "id": "Ww2sc84XyY5R"
      },
      "source": [
        ""
      ],
      "execution_count": null,
      "outputs": []
    }
  ]
}