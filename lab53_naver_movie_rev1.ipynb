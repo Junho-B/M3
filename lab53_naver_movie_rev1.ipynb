{
  "nbformat": 4,
  "nbformat_minor": 0,
  "metadata": {
    "accelerator": "GPU",
    "colab": {
      "name": "lab53_naver_movie_rev1.ipynb",
      "provenance": [],
      "collapsed_sections": [],
      "toc_visible": true,
      "include_colab_link": true
    },
    "kernelspec": {
      "display_name": "Python 3",
      "language": "python",
      "name": "python3"
    },
    "language_info": {
      "codemirror_mode": {
        "name": "ipython",
        "version": 3
      },
      "file_extension": ".py",
      "mimetype": "text/x-python",
      "name": "python",
      "nbconvert_exporter": "python",
      "pygments_lexer": "ipython3",
      "version": "3.6.8"
    }
  },
  "cells": [
    {
      "cell_type": "markdown",
      "metadata": {
        "id": "view-in-github",
        "colab_type": "text"
      },
      "source": [
        "<a href=\"https://colab.research.google.com/github/rtajeong/M3/blob/main/lab53_naver_movie_rev1.ipynb\" target=\"_parent\"><img src=\"https://colab.research.google.com/assets/colab-badge.svg\" alt=\"Open In Colab\"/></a>"
      ]
    },
    {
      "cell_type": "markdown",
      "metadata": {
        "id": "TI5-Fx_zPO0Y"
      },
      "source": [
        "네이버영화평점\n",
        "==\n",
        "- 감성분석\n",
        "- 네이버 영화평점 (Naver sentiment movie corpus v.1.0) 데이터(https://github.com/e9t/nsmc)\n",
        "- 영화 리뷰 20만건이 저장됨. 각 평가 데이터는 0(부정), 1(긍정)으로 label 됨.\n",
        "\n",
        "### 한글 자연어 처리\n",
        "- KoNLPy(“코엔엘파이”라고 읽습니다)는 한국어 정보처리를 위한 파이썬 패키지입니다.\n",
        "- konlpy 패키지에서 제공하는 Twitter라는 문서 분석 라이브러리 사용 (트위터 분석 뿐 아니라 한글 텍스트 \n",
        "  처리도 가능)\n",
        "- colab 사용 권장"
      ]
    },
    {
      "cell_type": "markdown",
      "metadata": {
        "id": "bZNLuzYoPO0k"
      },
      "source": [
        "# 로지스틱회귀를 이용한 감성분석"
      ]
    },
    {
      "cell_type": "code",
      "metadata": {
        "colab": {
          "base_uri": "https://localhost:8080/"
        },
        "id": "Q8ZDSK7xQfmD",
        "outputId": "caf7914c-e1ce-4c20-a4cd-06668d5a817d"
      },
      "source": [
        "!pip install konlpy"
      ],
      "execution_count": 1,
      "outputs": [
        {
          "output_type": "stream",
          "text": [
            "Collecting konlpy\n",
            "\u001b[?25l  Downloading https://files.pythonhosted.org/packages/85/0e/f385566fec837c0b83f216b2da65db9997b35dd675e107752005b7d392b1/konlpy-0.5.2-py2.py3-none-any.whl (19.4MB)\n",
            "\u001b[K     |████████████████████████████████| 19.4MB 1.4MB/s \n",
            "\u001b[?25hCollecting beautifulsoup4==4.6.0\n",
            "\u001b[?25l  Downloading https://files.pythonhosted.org/packages/9e/d4/10f46e5cfac773e22707237bfcd51bbffeaf0a576b0a847ec7ab15bd7ace/beautifulsoup4-4.6.0-py3-none-any.whl (86kB)\n",
            "\u001b[K     |████████████████████████████████| 92kB 13.7MB/s \n",
            "\u001b[?25hRequirement already satisfied: tweepy>=3.7.0 in /usr/local/lib/python3.7/dist-packages (from konlpy) (3.10.0)\n",
            "Requirement already satisfied: lxml>=4.1.0 in /usr/local/lib/python3.7/dist-packages (from konlpy) (4.2.6)\n",
            "Requirement already satisfied: numpy>=1.6 in /usr/local/lib/python3.7/dist-packages (from konlpy) (1.19.5)\n",
            "Collecting JPype1>=0.7.0\n",
            "\u001b[?25l  Downloading https://files.pythonhosted.org/packages/98/88/f817ef1af6f794e8f11313dcd1549de833f4599abcec82746ab5ed086686/JPype1-1.3.0-cp37-cp37m-manylinux_2_5_x86_64.manylinux1_x86_64.whl (448kB)\n",
            "\u001b[K     |████████████████████████████████| 450kB 43.9MB/s \n",
            "\u001b[?25hCollecting colorama\n",
            "  Downloading https://files.pythonhosted.org/packages/44/98/5b86278fbbf250d239ae0ecb724f8572af1c91f4a11edf4d36a206189440/colorama-0.4.4-py2.py3-none-any.whl\n",
            "Requirement already satisfied: requests-oauthlib>=0.7.0 in /usr/local/lib/python3.7/dist-packages (from tweepy>=3.7.0->konlpy) (1.3.0)\n",
            "Requirement already satisfied: six>=1.10.0 in /usr/local/lib/python3.7/dist-packages (from tweepy>=3.7.0->konlpy) (1.15.0)\n",
            "Requirement already satisfied: requests[socks]>=2.11.1 in /usr/local/lib/python3.7/dist-packages (from tweepy>=3.7.0->konlpy) (2.23.0)\n",
            "Requirement already satisfied: typing-extensions; python_version < \"3.8\" in /usr/local/lib/python3.7/dist-packages (from JPype1>=0.7.0->konlpy) (3.7.4.3)\n",
            "Requirement already satisfied: oauthlib>=3.0.0 in /usr/local/lib/python3.7/dist-packages (from requests-oauthlib>=0.7.0->tweepy>=3.7.0->konlpy) (3.1.1)\n",
            "Requirement already satisfied: chardet<4,>=3.0.2 in /usr/local/lib/python3.7/dist-packages (from requests[socks]>=2.11.1->tweepy>=3.7.0->konlpy) (3.0.4)\n",
            "Requirement already satisfied: urllib3!=1.25.0,!=1.25.1,<1.26,>=1.21.1 in /usr/local/lib/python3.7/dist-packages (from requests[socks]>=2.11.1->tweepy>=3.7.0->konlpy) (1.24.3)\n",
            "Requirement already satisfied: certifi>=2017.4.17 in /usr/local/lib/python3.7/dist-packages (from requests[socks]>=2.11.1->tweepy>=3.7.0->konlpy) (2021.5.30)\n",
            "Requirement already satisfied: idna<3,>=2.5 in /usr/local/lib/python3.7/dist-packages (from requests[socks]>=2.11.1->tweepy>=3.7.0->konlpy) (2.10)\n",
            "Requirement already satisfied: PySocks!=1.5.7,>=1.5.6; extra == \"socks\" in /usr/local/lib/python3.7/dist-packages (from requests[socks]>=2.11.1->tweepy>=3.7.0->konlpy) (1.7.1)\n",
            "Installing collected packages: beautifulsoup4, JPype1, colorama, konlpy\n",
            "  Found existing installation: beautifulsoup4 4.6.3\n",
            "    Uninstalling beautifulsoup4-4.6.3:\n",
            "      Successfully uninstalled beautifulsoup4-4.6.3\n",
            "Successfully installed JPype1-1.3.0 beautifulsoup4-4.6.0 colorama-0.4.4 konlpy-0.5.2\n"
          ],
          "name": "stdout"
        }
      ]
    },
    {
      "cell_type": "code",
      "metadata": {
        "id": "8Vw24B1BMhfz"
      },
      "source": [
        "# Curl:\n",
        "# curl is a tool to transfer data from or to a server, using one of the supported protocols (HTTP, HTTPS, FTP,\n",
        "# FTPS, SCP, SFTP, TFTP, DICT, TELNET, LDAP or FILE). The command is designed to work without user interaction.\n",
        "# \n",
        "# curl -L : (HTTP/HTTPS) If the server reports that the requested page has moved to a different location \n",
        "# (indicated with a Location: header and a 3XX response code), this option will make curl redo the request \n",
        "# on the new place."
      ],
      "execution_count": 2,
      "outputs": []
    },
    {
      "cell_type": "code",
      "metadata": {
        "colab": {
          "base_uri": "https://localhost:8080/"
        },
        "id": "Cr1Rds4XQn2N",
        "outputId": "3f2d2772-6998-4e30-b373-95214a61b991"
      },
      "source": [
        "# 네이버 영화 평점 데이터 다운로드\n",
        "!curl -L https://bit.ly/2X9Owwr -o ratings_train.txt\n",
        "!curl -L https://bit.ly/2WuLd5I -o ratings_test.txt"
      ],
      "execution_count": 3,
      "outputs": [
        {
          "output_type": "stream",
          "text": [
            "  % Total    % Received % Xferd  Average Speed   Time    Time     Time  Current\n",
            "                                 Dload  Upload   Total   Spent    Left  Speed\n",
            "100   152  100   152    0     0   4750      0 --:--:-- --:--:-- --:--:--  4750\n",
            "100   148    0   148    0     0    550      0 --:--:-- --:--:-- --:--:--   550\n",
            "100   318  100   318    0     0    554      0 --:--:-- --:--:-- --:--:--   554\n",
            "100 14.0M  100 14.0M    0     0  12.4M      0  0:00:01  0:00:01 --:--:-- 41.4M\n",
            "  % Total    % Received % Xferd  Average Speed   Time    Time     Time  Current\n",
            "                                 Dload  Upload   Total   Spent    Left  Speed\n",
            "100   151  100   151    0     0   6863      0 --:--:-- --:--:-- --:--:--  6863\n",
            "100   147    0   147    0     0    622      0 --:--:-- --:--:-- --:--:--   622\n",
            "100   318  100   318    0     0    583      0 --:--:-- --:--:-- --:--:--     0\n",
            "100 4827k  100 4827k    0     0  5467k      0 --:--:-- --:--:-- --:--:-- 5467k\n"
          ],
          "name": "stdout"
        }
      ]
    },
    {
      "cell_type": "code",
      "metadata": {
        "colab": {
          "base_uri": "https://localhost:8080/",
          "height": 203
        },
        "id": "UqXWg0fAPO0l",
        "scrolled": true,
        "outputId": "152a3872-cf2a-429c-c9f8-4c181b495175"
      },
      "source": [
        "import konlpy\n",
        "import pandas as pd\n",
        "from konlpy.tag import Twitter\n",
        "from sklearn.feature_extraction.text import TfidfVectorizer\n",
        "from sklearn.linear_model import LogisticRegression\n",
        "# from sklearn.pipeline import make_pipeline\n",
        "# import pickle\n",
        "# import os.path\n",
        "\n",
        "# 데이터 로드\n",
        "# keep_default_na: Whether or not to include the default NaN values when parsing the data\n",
        "# -> False: no strings will be parsed as NaN.\n",
        "\n",
        "df_train = pd.read_csv('ratings_train.txt', delimiter='\\t', keep_default_na=False)\n",
        "df_test = pd.read_csv('ratings_test.txt', delimiter='\\t', keep_default_na=False)\n",
        "\n",
        "df_train.head()"
      ],
      "execution_count": 4,
      "outputs": [
        {
          "output_type": "execute_result",
          "data": {
            "text/html": [
              "<div>\n",
              "<style scoped>\n",
              "    .dataframe tbody tr th:only-of-type {\n",
              "        vertical-align: middle;\n",
              "    }\n",
              "\n",
              "    .dataframe tbody tr th {\n",
              "        vertical-align: top;\n",
              "    }\n",
              "\n",
              "    .dataframe thead th {\n",
              "        text-align: right;\n",
              "    }\n",
              "</style>\n",
              "<table border=\"1\" class=\"dataframe\">\n",
              "  <thead>\n",
              "    <tr style=\"text-align: right;\">\n",
              "      <th></th>\n",
              "      <th>id</th>\n",
              "      <th>document</th>\n",
              "      <th>label</th>\n",
              "    </tr>\n",
              "  </thead>\n",
              "  <tbody>\n",
              "    <tr>\n",
              "      <th>0</th>\n",
              "      <td>9976970</td>\n",
              "      <td>아 더빙.. 진짜 짜증나네요 목소리</td>\n",
              "      <td>0</td>\n",
              "    </tr>\n",
              "    <tr>\n",
              "      <th>1</th>\n",
              "      <td>3819312</td>\n",
              "      <td>흠...포스터보고 초딩영화줄....오버연기조차 가볍지 않구나</td>\n",
              "      <td>1</td>\n",
              "    </tr>\n",
              "    <tr>\n",
              "      <th>2</th>\n",
              "      <td>10265843</td>\n",
              "      <td>너무재밓었다그래서보는것을추천한다</td>\n",
              "      <td>0</td>\n",
              "    </tr>\n",
              "    <tr>\n",
              "      <th>3</th>\n",
              "      <td>9045019</td>\n",
              "      <td>교도소 이야기구먼 ..솔직히 재미는 없다..평점 조정</td>\n",
              "      <td>0</td>\n",
              "    </tr>\n",
              "    <tr>\n",
              "      <th>4</th>\n",
              "      <td>6483659</td>\n",
              "      <td>사이몬페그의 익살스런 연기가 돋보였던 영화!스파이더맨에서 늙어보이기만 했던 커스틴 ...</td>\n",
              "      <td>1</td>\n",
              "    </tr>\n",
              "  </tbody>\n",
              "</table>\n",
              "</div>"
            ],
            "text/plain": [
              "         id                                           document  label\n",
              "0   9976970                                아 더빙.. 진짜 짜증나네요 목소리      0\n",
              "1   3819312                  흠...포스터보고 초딩영화줄....오버연기조차 가볍지 않구나      1\n",
              "2  10265843                                  너무재밓었다그래서보는것을추천한다      0\n",
              "3   9045019                      교도소 이야기구먼 ..솔직히 재미는 없다..평점 조정      0\n",
              "4   6483659  사이몬페그의 익살스런 연기가 돋보였던 영화!스파이더맨에서 늙어보이기만 했던 커스틴 ...      1"
            ]
          },
          "metadata": {
            "tags": []
          },
          "execution_count": 4
        }
      ]
    },
    {
      "cell_type": "code",
      "metadata": {
        "id": "6czFe5D5MhgA"
      },
      "source": [
        "text_train, y_train = df_train['document'].values, df_train['label'].values\n",
        "text_test, y_test = df_test['document'].values, df_test['label'].values"
      ],
      "execution_count": 5,
      "outputs": []
    },
    {
      "cell_type": "code",
      "metadata": {
        "colab": {
          "base_uri": "https://localhost:8080/"
        },
        "id": "nzn8-rhIV4qs",
        "outputId": "2da09a49-53a7-4d31-ea88-08130ed45870"
      },
      "source": [
        "text_train.shape, text_test.shape   # too big"
      ],
      "execution_count": 6,
      "outputs": [
        {
          "output_type": "execute_result",
          "data": {
            "text/plain": [
              "((150000,), (50000,))"
            ]
          },
          "metadata": {
            "tags": []
          },
          "execution_count": 6
        }
      ]
    },
    {
      "cell_type": "code",
      "metadata": {
        "id": "kjn5HJGFWBuF"
      },
      "source": [
        "text_train, y_train = text_train[:2000], y_train[:2000]\n",
        "text_test, y_test = text_test[:1000], y_test[:1000]"
      ],
      "execution_count": 7,
      "outputs": []
    },
    {
      "cell_type": "code",
      "metadata": {
        "colab": {
          "base_uri": "https://localhost:8080/"
        },
        "id": "T1_eeFpFWYLu",
        "outputId": "6150034b-b4a8-45bd-b681-96763170c9a9"
      },
      "source": [
        "text_train.shape, text_test.shape"
      ],
      "execution_count": 8,
      "outputs": [
        {
          "output_type": "execute_result",
          "data": {
            "text/plain": [
              "((2000,), (1000,))"
            ]
          },
          "metadata": {
            "tags": []
          },
          "execution_count": 8
        }
      ]
    },
    {
      "cell_type": "code",
      "metadata": {
        "id": "Gy5fHajqPO0w"
      },
      "source": [
        "from konlpy.tag import Twitter\n",
        "def twitter_tokenizer(text):\n",
        "    return Twitter().morphs(text)\n",
        "\n",
        "cv = TfidfVectorizer(tokenizer=twitter_tokenizer, max_features = 5000, min_df=5)"
      ],
      "execution_count": 9,
      "outputs": []
    },
    {
      "cell_type": "code",
      "metadata": {
        "colab": {
          "base_uri": "https://localhost:8080/"
        },
        "id": "V7eeTvGHPO04",
        "outputId": "fd04232f-2be3-4d9a-e7b3-3be14ee46cc2"
      },
      "source": [
        "lr = LogisticRegression()\n",
        "x_train = cv.fit_transform(text_train)\n",
        "x_test = cv.transform(text_test)\n",
        "result = lr.fit(x_train,y_train)"
      ],
      "execution_count": 10,
      "outputs": [
        {
          "output_type": "stream",
          "text": [
            "/usr/local/lib/python3.7/dist-packages/konlpy/tag/_okt.py:16: UserWarning: \"Twitter\" has changed to \"Okt\" since KoNLPy v0.4.5.\n",
            "  warn('\"Twitter\" has changed to \"Okt\" since KoNLPy v0.4.5.')\n",
            "/usr/local/lib/python3.7/dist-packages/konlpy/tag/_okt.py:16: UserWarning: \"Twitter\" has changed to \"Okt\" since KoNLPy v0.4.5.\n",
            "  warn('\"Twitter\" has changed to \"Okt\" since KoNLPy v0.4.5.')\n"
          ],
          "name": "stderr"
        }
      ]
    },
    {
      "cell_type": "code",
      "metadata": {
        "colab": {
          "base_uri": "https://localhost:8080/"
        },
        "id": "qPsRbX4fUZCW",
        "outputId": "5c92f5bf-2314-4c12-a657-ea471e4b58e3"
      },
      "source": [
        "len(cv.vocabulary_)"
      ],
      "execution_count": 11,
      "outputs": [
        {
          "output_type": "execute_result",
          "data": {
            "text/plain": [
              "794"
            ]
          },
          "metadata": {
            "tags": []
          },
          "execution_count": 11
        }
      ]
    },
    {
      "cell_type": "code",
      "metadata": {
        "colab": {
          "base_uri": "https://localhost:8080/"
        },
        "id": "-u3lCQXTPO0_",
        "outputId": "8489aa08-be32-447e-aab5-bf91f8bea899"
      },
      "source": [
        "print(\"훈련 데이터 점수 : \", result.score(x_train, y_train))\n",
        "print(\"테스트 데이터 점수 : \", result.score(x_test, y_test))"
      ],
      "execution_count": 12,
      "outputs": [
        {
          "output_type": "stream",
          "text": [
            "훈련 데이터 점수 :  0.8555\n",
            "테스트 데이터 점수 :  0.746\n"
          ],
          "name": "stdout"
        }
      ]
    },
    {
      "cell_type": "code",
      "metadata": {
        "colab": {
          "base_uri": "https://localhost:8080/"
        },
        "id": "4SiAQR0vUX6v",
        "outputId": "c4d759e3-9c5f-4592-e010-a7351e297f65"
      },
      "source": [
        "feature_names = cv.get_feature_names()\n",
        "print(feature_names[-10:])"
      ],
      "execution_count": 13,
      "outputs": [
        {
          "output_type": "stream",
          "text": [
            "['화', '화면', '화보', '화이팅', '확실히', '후', '후회', '흠', '희망', '히']\n"
          ],
          "name": "stdout"
        }
      ]
    },
    {
      "cell_type": "markdown",
      "metadata": {
        "id": "LgVAx7WUMhgJ"
      },
      "source": [
        "# 불용어 처리\n",
        "- 한국어  불용어 확인은 형태소 분석 라이브러리인 KoLPy 를 이용하면 됨.\n",
        "- (예) 한국어 품사 중 조사를 추출하는 예\n",
        "- pos (part-of-speech): 품사 (명사, 동사, ...)"
      ]
    },
    {
      "cell_type": "code",
      "metadata": {
        "colab": {
          "base_uri": "https://localhost:8080/"
        },
        "id": "7Kk98B0mUlsr",
        "outputId": "7e7afe8a-11ed-4d30-86bc-ce3c7f7e9294"
      },
      "source": [
        "Twitter().morphs(\"텍스트 데이터를 이용해서 불용어 사전을 구축하기 위한 간단 예제\")"
      ],
      "execution_count": 14,
      "outputs": [
        {
          "output_type": "stream",
          "text": [
            "/usr/local/lib/python3.7/dist-packages/konlpy/tag/_okt.py:16: UserWarning: \"Twitter\" has changed to \"Okt\" since KoNLPy v0.4.5.\n",
            "  warn('\"Twitter\" has changed to \"Okt\" since KoNLPy v0.4.5.')\n"
          ],
          "name": "stderr"
        },
        {
          "output_type": "execute_result",
          "data": {
            "text/plain": [
              "['텍스트',\n",
              " '데이터',\n",
              " '를',\n",
              " '이용',\n",
              " '해서',\n",
              " '불',\n",
              " '용어',\n",
              " '사전',\n",
              " '을',\n",
              " '구축',\n",
              " '하기',\n",
              " '위',\n",
              " '한',\n",
              " '간단',\n",
              " '예제']"
            ]
          },
          "metadata": {
            "tags": []
          },
          "execution_count": 14
        }
      ]
    },
    {
      "cell_type": "code",
      "metadata": {
        "colab": {
          "base_uri": "https://localhost:8080/"
        },
        "id": "-5_EhfHoWynd",
        "outputId": "50d116b6-56e8-4332-c31a-e08b5dd1121d"
      },
      "source": [
        "Twitter().pos(\"텍스트 데이터를 이용해서 불용어 사전을 구축하기 위한 간단 예제\")"
      ],
      "execution_count": 15,
      "outputs": [
        {
          "output_type": "stream",
          "text": [
            "/usr/local/lib/python3.7/dist-packages/konlpy/tag/_okt.py:16: UserWarning: \"Twitter\" has changed to \"Okt\" since KoNLPy v0.4.5.\n",
            "  warn('\"Twitter\" has changed to \"Okt\" since KoNLPy v0.4.5.')\n"
          ],
          "name": "stderr"
        },
        {
          "output_type": "execute_result",
          "data": {
            "text/plain": [
              "[('텍스트', 'Noun'),\n",
              " ('데이터', 'Noun'),\n",
              " ('를', 'Josa'),\n",
              " ('이용', 'Noun'),\n",
              " ('해서', 'Verb'),\n",
              " ('불', 'Noun'),\n",
              " ('용어', 'Noun'),\n",
              " ('사전', 'Noun'),\n",
              " ('을', 'Josa'),\n",
              " ('구축', 'Noun'),\n",
              " ('하기', 'Verb'),\n",
              " ('위', 'Noun'),\n",
              " ('한', 'Josa'),\n",
              " ('간단', 'Noun'),\n",
              " ('예제', 'Noun')]"
            ]
          },
          "metadata": {
            "tags": []
          },
          "execution_count": 15
        }
      ]
    },
    {
      "cell_type": "code",
      "metadata": {
        "colab": {
          "base_uri": "https://localhost:8080/"
        },
        "id": "rUC5dkWIXsN3",
        "outputId": "22b4ba7d-dc54-4d55-d8a7-a7d7f5cd37bb"
      },
      "source": [
        "Twitter().pos(\"텍스트 데이터를 이용해서 불용어 사전을 구축하기 위한 간단 예제\", norm=True)"
      ],
      "execution_count": 16,
      "outputs": [
        {
          "output_type": "stream",
          "text": [
            "/usr/local/lib/python3.7/dist-packages/konlpy/tag/_okt.py:16: UserWarning: \"Twitter\" has changed to \"Okt\" since KoNLPy v0.4.5.\n",
            "  warn('\"Twitter\" has changed to \"Okt\" since KoNLPy v0.4.5.')\n"
          ],
          "name": "stderr"
        },
        {
          "output_type": "execute_result",
          "data": {
            "text/plain": [
              "[('텍스트', 'Noun'),\n",
              " ('데이터', 'Noun'),\n",
              " ('를', 'Josa'),\n",
              " ('이용', 'Noun'),\n",
              " ('해서', 'Verb'),\n",
              " ('불', 'Noun'),\n",
              " ('용어', 'Noun'),\n",
              " ('사전', 'Noun'),\n",
              " ('을', 'Josa'),\n",
              " ('구축', 'Noun'),\n",
              " ('하기', 'Verb'),\n",
              " ('위', 'Noun'),\n",
              " ('한', 'Josa'),\n",
              " ('간단', 'Noun'),\n",
              " ('예제', 'Noun')]"
            ]
          },
          "metadata": {
            "tags": []
          },
          "execution_count": 16
        }
      ]
    },
    {
      "cell_type": "code",
      "metadata": {
        "colab": {
          "base_uri": "https://localhost:8080/"
        },
        "id": "V5hJgSwvXQ5T",
        "outputId": "9a5b2bd7-3fcd-441b-f4ab-3f686dd1bb62"
      },
      "source": [
        "Twitter().nouns(\"텍스트 데이터를 이용해서 불용어 사전을 구축하기 위한 간단 예제\")"
      ],
      "execution_count": 17,
      "outputs": [
        {
          "output_type": "stream",
          "text": [
            "/usr/local/lib/python3.7/dist-packages/konlpy/tag/_okt.py:16: UserWarning: \"Twitter\" has changed to \"Okt\" since KoNLPy v0.4.5.\n",
            "  warn('\"Twitter\" has changed to \"Okt\" since KoNLPy v0.4.5.')\n"
          ],
          "name": "stderr"
        },
        {
          "output_type": "execute_result",
          "data": {
            "text/plain": [
              "['텍스트', '데이터', '이용', '불', '용어', '사전', '구축', '위', '간단', '예제']"
            ]
          },
          "metadata": {
            "tags": []
          },
          "execution_count": 17
        }
      ]
    },
    {
      "cell_type": "markdown",
      "metadata": {
        "id": "1hJQpd451f9-"
      },
      "source": [
        "- norm: 오타수정, stem: 어근 찾기"
      ]
    },
    {
      "cell_type": "code",
      "metadata": {
        "colab": {
          "base_uri": "https://localhost:8080/"
        },
        "id": "VziNESMRMhgK",
        "outputId": "cdeeff2f-6415-4400-ad5f-1f0a4b540b50"
      },
      "source": [
        "from konlpy.tag import Twitter\n",
        "twitter = Twitter()\n",
        "word_tags = twitter.pos(\"텍스트 데이터를 이용해서 불용어 사전을 구축하기 위한 간단 예제\",\n",
        "                       norm=True, stem=True)\n",
        "print(word_tags)\n",
        "stop_words = [word[0] for word in word_tags if word[1]==\"Josa\"]\n",
        "print (stop_words)"
      ],
      "execution_count": 18,
      "outputs": [
        {
          "output_type": "stream",
          "text": [
            "[('텍스트', 'Noun'), ('데이터', 'Noun'), ('를', 'Josa'), ('이용', 'Noun'), ('하다', 'Verb'), ('불', 'Noun'), ('용어', 'Noun'), ('사전', 'Noun'), ('을', 'Josa'), ('구축', 'Noun'), ('하다', 'Verb'), ('위', 'Noun'), ('한', 'Josa'), ('간단', 'Noun'), ('예제', 'Noun')]\n",
            "['를', '을', '한']\n"
          ],
          "name": "stdout"
        },
        {
          "output_type": "stream",
          "text": [
            "/usr/local/lib/python3.7/dist-packages/konlpy/tag/_okt.py:16: UserWarning: \"Twitter\" has changed to \"Okt\" since KoNLPy v0.4.5.\n",
            "  warn('\"Twitter\" has changed to \"Okt\" since KoNLPy v0.4.5.')\n"
          ],
          "name": "stderr"
        }
      ]
    },
    {
      "cell_type": "markdown",
      "metadata": {
        "id": "1PCndrFXU63y"
      },
      "source": [
        "# 여기까지 --- Text ---"
      ]
    },
    {
      "cell_type": "markdown",
      "metadata": {
        "id": "EsnrMwHXPO1E"
      },
      "source": [
        "# LSTM을 이용한 분석"
      ]
    },
    {
      "cell_type": "code",
      "metadata": {
        "colab": {
          "base_uri": "https://localhost:8080/"
        },
        "id": "ozhekvhaMhgO",
        "outputId": "16cbcac5-8257-418e-b26a-4fa8949584e4"
      },
      "source": [
        "print(df_train.shape, df_test.shape)\n",
        "df_train.columns, df_test.columns"
      ],
      "execution_count": 19,
      "outputs": [
        {
          "output_type": "stream",
          "text": [
            "(150000, 3) (50000, 3)\n"
          ],
          "name": "stdout"
        },
        {
          "output_type": "execute_result",
          "data": {
            "text/plain": [
              "(Index(['id', 'document', 'label'], dtype='object'),\n",
              " Index(['id', 'document', 'label'], dtype='object'))"
            ]
          },
          "metadata": {
            "tags": []
          },
          "execution_count": 19
        }
      ]
    },
    {
      "cell_type": "code",
      "metadata": {
        "scrolled": true,
        "colab": {
          "base_uri": "https://localhost:8080/"
        },
        "id": "O8DeUTU5MhgP",
        "outputId": "57093122-a4c8-426b-f26b-655c87f256da"
      },
      "source": [
        "df_data= pd.concat([df_train, df_test])\n",
        "df_data.shape, df_data.columns"
      ],
      "execution_count": 20,
      "outputs": [
        {
          "output_type": "execute_result",
          "data": {
            "text/plain": [
              "((200000, 3), Index(['id', 'document', 'label'], dtype='object'))"
            ]
          },
          "metadata": {
            "tags": []
          },
          "execution_count": 20
        }
      ]
    },
    {
      "cell_type": "code",
      "metadata": {
        "id": "C8zebbzoPO1G"
      },
      "source": [
        "text_data, y_data = df_data['document'].values, df_data['label'].values"
      ],
      "execution_count": 21,
      "outputs": []
    },
    {
      "cell_type": "code",
      "metadata": {
        "id": "XY8nO_VWPO1L"
      },
      "source": [
        "from konlpy.tag import Twitter\n",
        "from sklearn.feature_extraction.text import TfidfVectorizer\n",
        "from keras.models import Sequential\n",
        "from keras.layers import Dense, Dropout, Activation\n",
        "from keras.wrappers.scikit_learn import KerasClassifier\n",
        "from keras.utils import np_utils\n",
        "from sklearn.model_selection import train_test_split\n",
        "from sklearn import model_selection, metrics\n",
        "import numpy as np\n",
        "import pickle\n",
        "import os.path\n",
        "import tensorflow.keras.backend as K\n",
        "\n",
        "# 토큰 파서\n",
        "def twitter_tokenizer(text):\n",
        "    return Twitter().morphs(text)"
      ],
      "execution_count": 22,
      "outputs": []
    },
    {
      "cell_type": "code",
      "metadata": {
        "id": "PtlGfMtPPO1T"
      },
      "source": [
        "cv = TfidfVectorizer(tokenizer=twitter_tokenizer)"
      ],
      "execution_count": 23,
      "outputs": []
    },
    {
      "cell_type": "markdown",
      "metadata": {
        "id": "eugSqKV6MhgV"
      },
      "source": [
        "### pickling: \n",
        "-“Pickling” is the process whereby a Python object hierarchy is converted into a byte stream, and “unpickling” is the inverse operation, whereby a byte stream (from a binary file or bytes-like object) is converted back into an object hierarchy. Pickling (and unpickling) is alternatively known as “serialization”, “marshalling,” 1 or “flattening”; however, to avoid confusion, the terms used here are “pickling” and “unpickling”."
      ]
    },
    {
      "cell_type": "markdown",
      "metadata": {
        "id": "fliu_bXgMhgX"
      },
      "source": [
        "### Comparison with json\n",
        "There are fundamental differences between the pickle protocols and JSON (JavaScript Object Notation):\n",
        "\n",
        "- JSON is a text serialization format (it outputs unicode text, although most of the time it is then encoded to utf-8), while pickle is a binary serialization format;\n",
        "- JSON is human-readable, while pickle is not;\n",
        "- JSON is interoperable and widely used outside of the Python ecosystem, while pickle is Python-specific;\n",
        "- JSON, by default, can only represent a subset of the Python built-in types, and no custom classes; pickle can represent an extremely large number of Python types (many of them automatically, by clever usage of Python’s introspection facilities; complex cases can be tackled by implementing specific object APIs);\n",
        "- Unlike pickle, deserializing untrusted JSON does not in itself create an arbitrary code execution vulnerability."
      ]
    },
    {
      "cell_type": "code",
      "metadata": {
        "colab": {
          "base_uri": "https://localhost:8080/"
        },
        "id": "F4EgTHi-PO1b",
        "outputId": "24799ecc-eaf3-48ca-9c74-6bf2c24c4b79"
      },
      "source": [
        "# Tfidf 생성과 저장 - 단 파일이 없을 때만 !!\n",
        "if not os.path.isfile(\"X_data.pickle\"): \n",
        "    print('file does not exists')\n",
        "    X_data = cv.fit_transform(text_data)\n",
        "    pickle.dump(X_train, open(\"X_data.pickle\", \"wb\"))"
      ],
      "execution_count": null,
      "outputs": [
        {
          "output_type": "stream",
          "text": [
            "file does not exists\n"
          ],
          "name": "stdout"
        },
        {
          "output_type": "stream",
          "text": [
            "/usr/local/lib/python3.7/dist-packages/konlpy/tag/_okt.py:16: UserWarning: \"Twitter\" has changed to \"Okt\" since KoNLPy v0.4.5.\n",
            "  warn('\"Twitter\" has changed to \"Okt\" since KoNLPy v0.4.5.')\n"
          ],
          "name": "stderr"
        }
      ]
    },
    {
      "cell_type": "code",
      "metadata": {
        "id": "pviIJR6ZPO1e"
      },
      "source": [
        "# 저장된 tfidf vector 데이터 읽기\n",
        "with open('X_data.pickle', 'rb') as f:\n",
        "    X_data = pickle.load(f)"
      ],
      "execution_count": null,
      "outputs": []
    },
    {
      "cell_type": "code",
      "metadata": {
        "id": "rpi1YvmdPO1g"
      },
      "source": [
        "!ls -al X*"
      ],
      "execution_count": null,
      "outputs": []
    },
    {
      "cell_type": "code",
      "metadata": {
        "id": "LTjdoWMoPO1l"
      },
      "source": [
        "# one-hot encoding\n",
        "Y_data = np_utils.to_categorical(y_data, 2)"
      ],
      "execution_count": null,
      "outputs": []
    },
    {
      "cell_type": "code",
      "metadata": {
        "id": "wAPyi6uwPO1n"
      },
      "source": [
        "X_train = X_data[:100000]\n",
        "X_test = X_data[100000:]\n",
        "\n",
        "Y_train = Y_data[:100000]\n",
        "Y_test = Y_data[100000:]"
      ],
      "execution_count": null,
      "outputs": []
    },
    {
      "cell_type": "code",
      "metadata": {
        "id": "JI6yem-OPO1q"
      },
      "source": [
        "max_words = 61070 \n",
        "nb_classes = 2\n",
        "batch_size = 1024\n",
        "nb_epoch = 5"
      ],
      "execution_count": null,
      "outputs": []
    },
    {
      "cell_type": "code",
      "metadata": {
        "id": "YYzxE1DIPO1u"
      },
      "source": [
        "print(X_train.shape)\n",
        "print(X_test.shape)\n",
        "print(Y_train.shape)\n",
        "Y_train.shape[1]"
      ],
      "execution_count": null,
      "outputs": []
    },
    {
      "cell_type": "code",
      "metadata": {
        "id": "yxUfYM-PPO1w"
      },
      "source": [
        "# LSTM 학습을 위한 데이터 재배열 (Time step)\n",
        "X_train_rnn = X_train.A.reshape((X_train.shape[0], 1, X_train.shape[1]))\n",
        "X_test_rnn = X_test.A.reshape((X_test.shape[0], 1, X_test.shape[1]))\n",
        "\n",
        "print(X_train_rnn.shape)\n",
        "print(X_test_rnn.shape)"
      ],
      "execution_count": null,
      "outputs": []
    },
    {
      "cell_type": "code",
      "metadata": {
        "id": "m_yPDRa0PO1z"
      },
      "source": [
        "from keras.models import Sequential\n",
        "from keras.layers import Dense\n",
        "from keras.layers import Dropout\n",
        "from keras.layers import LSTM\n",
        "from keras.utils import np_utils\n",
        "\n",
        "def build_LSTM_model():\n",
        "    model = Sequential()\n",
        "    model.add(LSTM(128, input_shape=(X_train_rnn.shape[1], X_train_rnn.shape[2]), return_sequences=True))\n",
        "    model.add(Activation('relu'))\n",
        "    model.add(Dropout(0.2))\n",
        "    model.add(LSTM(128))\n",
        "    model.add(Dropout(0.2))\n",
        "    model.add(Dense(Y_train.shape[1], activation='softmax'))\n",
        "    model.compile(loss='categorical_crossentropy', optimizer='adam', metrics=['accuracy'])\n",
        "    return model"
      ],
      "execution_count": null,
      "outputs": []
    },
    {
      "cell_type": "code",
      "metadata": {
        "id": "LzZ0Jpc0PO13",
        "scrolled": false
      },
      "source": [
        "import keras.backend.tensorflow_backend as K\n",
        "with K.tf.device('/GPU:1'):\n",
        "    model_lstm = KerasClassifier(\n",
        "    build_fn=build_LSTM_model, \n",
        "    epochs=nb_epoch, \n",
        "    batch_size=batch_size)\n",
        "    \n",
        "    model_lstm.fit(X_train_rnn, Y_train)"
      ],
      "execution_count": null,
      "outputs": []
    },
    {
      "cell_type": "code",
      "metadata": {
        "id": "9EzWAnPvPO16"
      },
      "source": [
        "y = model_lstm.predict(X_train_rnn)\n",
        "y_train = y_data[:100000]\n",
        "ac_score = metrics.accuracy_score(y_train, y)\n",
        "print(\"훈련 셋 정답률 =\", ac_score)"
      ],
      "execution_count": null,
      "outputs": []
    },
    {
      "cell_type": "code",
      "metadata": {
        "id": "8wEdCDE5PO19"
      },
      "source": [
        "# predict 함수는 예측 결과를 0 or 1로 출력하므로\n",
        "# 학습과정에서 사용한 Y_train, Y_test 변수로 정확도 측정이 안됨\n",
        "# Y_train, Y_test는 [0, 1], [1, 0]의 형태로 해당하는 감정 컬럼(class)은 1, 다른 컬럼은 0으로 표시됨\n",
        "# 초기 y_data에 저장된 값을 그대로 활용하여 정확도를 측정\n",
        "\n",
        "print(\"y : \", y)\n",
        "print(\"Y_train[0] : \", Y_train)\n",
        "print(\"y_train[0] : \", y_data)"
      ],
      "execution_count": null,
      "outputs": []
    },
    {
      "cell_type": "code",
      "metadata": {
        "id": "iIs-Hiv1PO2B"
      },
      "source": [
        "y = model_lstm.predict(X_test_rnn)\n",
        "y_test = y_data[100000:]\n",
        "ac_score = metrics.accuracy_score(y_test, y)\n",
        "print(\"테스트 셋 정답률 =\", ac_score)"
      ],
      "execution_count": null,
      "outputs": []
    },
    {
      "cell_type": "code",
      "metadata": {
        "id": "VrYzqO_PPO2D"
      },
      "source": [
        "## 연습"
      ],
      "execution_count": null,
      "outputs": []
    },
    {
      "cell_type": "code",
      "metadata": {
        "id": "p9g9tHOgMhgr"
      },
      "source": [
        "import numpy as np\n",
        "import pandas as pd\n",
        "df = pd.DataFrame(np.arange(12).reshape(3,4)); df"
      ],
      "execution_count": null,
      "outputs": []
    },
    {
      "cell_type": "code",
      "metadata": {
        "id": "33D49mj_Mhgs"
      },
      "source": [
        "df.as_matrix()   # Convert the frame to its Numpy-array representation."
      ],
      "execution_count": null,
      "outputs": []
    },
    {
      "cell_type": "code",
      "metadata": {
        "id": "wSE30521Mhgt"
      },
      "source": [
        "df.values       # using this is recommended"
      ],
      "execution_count": null,
      "outputs": []
    },
    {
      "cell_type": "code",
      "metadata": {
        "id": "F95-seEVMhgu"
      },
      "source": [
        "df[0].as_matrix(), df[0].values"
      ],
      "execution_count": null,
      "outputs": []
    },
    {
      "cell_type": "code",
      "metadata": {
        "id": "EBJyacN0Mhgv"
      },
      "source": [
        ""
      ],
      "execution_count": null,
      "outputs": []
    }
  ]
}